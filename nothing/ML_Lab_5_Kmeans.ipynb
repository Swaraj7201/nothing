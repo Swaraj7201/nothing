{
  "nbformat": 4,
  "nbformat_minor": 0,
  "metadata": {
    "colab": {
      "provenance": []
    },
    "kernelspec": {
      "name": "python3",
      "display_name": "Python 3"
    },
    "language_info": {
      "name": "python"
    }
  },
  "cells": [
    {
      "cell_type": "markdown",
      "source": [
        "Name: Gauri Kailas Bankar (BE_A_66)\n",
        "\n",
        "---\n",
        "# **Problem Statement**\n",
        "Implement K-Means clustering/ hierarchical clustering on\n",
        "sales_data_sample.csv dataset.\n",
        "\n",
        "Determine the number of clusters \n",
        "using the elbow method.\n",
        "\n",
        "Dataset link : https://www.kaggle.com/datasets/kyanyoga/sample\u0002sales-data"
      ],
      "metadata": {
        "id": "0ME-EgsDD5Pq"
      }
    },
    {
      "cell_type": "code",
      "source": [
        "import pandas as pd\n",
        "import numpy as np\n",
        "import matplotlib.pyplot as plt\n",
        "import seaborn as sns"
      ],
      "metadata": {
        "id": "DZXDHqnkEB7D"
      },
      "execution_count": 3,
      "outputs": []
    },
    {
      "cell_type": "code",
      "source": [
        "df = pd.read_csv(\"sales_data_sample.csv\",encoding='unicode_escape')"
      ],
      "metadata": {
        "id": "MtiPBXBgEVJ8"
      },
      "execution_count": 4,
      "outputs": []
    },
    {
      "cell_type": "code",
      "source": [
        "df.shape"
      ],
      "metadata": {
        "colab": {
          "base_uri": "https://localhost:8080/"
        },
        "id": "mDrPS5jXFiH5",
        "outputId": "cb76d1c4-bef6-4f05-c998-fc43fb4c902f"
      },
      "execution_count": 5,
      "outputs": [
        {
          "output_type": "execute_result",
          "data": {
            "text/plain": [
              "(2823, 25)"
            ]
          },
          "metadata": {},
          "execution_count": 5
        }
      ]
    },
    {
      "cell_type": "code",
      "source": [
        "df.info()"
      ],
      "metadata": {
        "colab": {
          "base_uri": "https://localhost:8080/"
        },
        "id": "AdMU5Q7BFnFO",
        "outputId": "82258dcc-976c-4d4c-99ce-992f89964697"
      },
      "execution_count": 6,
      "outputs": [
        {
          "output_type": "stream",
          "name": "stdout",
          "text": [
            "<class 'pandas.core.frame.DataFrame'>\n",
            "RangeIndex: 2823 entries, 0 to 2822\n",
            "Data columns (total 25 columns):\n",
            " #   Column            Non-Null Count  Dtype  \n",
            "---  ------            --------------  -----  \n",
            " 0   ORDERNUMBER       2823 non-null   int64  \n",
            " 1   QUANTITYORDERED   2823 non-null   int64  \n",
            " 2   PRICEEACH         2823 non-null   float64\n",
            " 3   ORDERLINENUMBER   2823 non-null   int64  \n",
            " 4   SALES             2823 non-null   float64\n",
            " 5   ORDERDATE         2823 non-null   object \n",
            " 6   STATUS            2823 non-null   object \n",
            " 7   QTR_ID            2823 non-null   int64  \n",
            " 8   MONTH_ID          2823 non-null   int64  \n",
            " 9   YEAR_ID           2823 non-null   int64  \n",
            " 10  PRODUCTLINE       2823 non-null   object \n",
            " 11  MSRP              2823 non-null   int64  \n",
            " 12  PRODUCTCODE       2823 non-null   object \n",
            " 13  CUSTOMERNAME      2823 non-null   object \n",
            " 14  PHONE             2823 non-null   object \n",
            " 15  ADDRESSLINE1      2823 non-null   object \n",
            " 16  ADDRESSLINE2      302 non-null    object \n",
            " 17  CITY              2823 non-null   object \n",
            " 18  STATE             1337 non-null   object \n",
            " 19  POSTALCODE        2747 non-null   object \n",
            " 20  COUNTRY           2823 non-null   object \n",
            " 21  TERRITORY         1749 non-null   object \n",
            " 22  CONTACTLASTNAME   2823 non-null   object \n",
            " 23  CONTACTFIRSTNAME  2823 non-null   object \n",
            " 24  DEALSIZE          2823 non-null   object \n",
            "dtypes: float64(2), int64(7), object(16)\n",
            "memory usage: 551.5+ KB\n"
          ]
        }
      ]
    },
    {
      "cell_type": "code",
      "source": [
        "df.head"
      ],
      "metadata": {
        "colab": {
          "base_uri": "https://localhost:8080/"
        },
        "id": "w-8t32wIFyx6",
        "outputId": "9f2c5f73-a323-4e2d-8e52-144b1d46980b"
      },
      "execution_count": 7,
      "outputs": [
        {
          "output_type": "execute_result",
          "data": {
            "text/plain": [
              "<bound method NDFrame.head of       ORDERNUMBER  QUANTITYORDERED  PRICEEACH  ORDERLINENUMBER    SALES  \\\n",
              "0           10107               30      95.70                2  2871.00   \n",
              "1           10121               34      81.35                5  2765.90   \n",
              "2           10134               41      94.74                2  3884.34   \n",
              "3           10145               45      83.26                6  3746.70   \n",
              "4           10159               49     100.00               14  5205.27   \n",
              "...           ...              ...        ...              ...      ...   \n",
              "2818        10350               20     100.00               15  2244.40   \n",
              "2819        10373               29     100.00                1  3978.51   \n",
              "2820        10386               43     100.00                4  5417.57   \n",
              "2821        10397               34      62.24                1  2116.16   \n",
              "2822        10414               47      65.52                9  3079.44   \n",
              "\n",
              "            ORDERDATE    STATUS  QTR_ID  MONTH_ID  YEAR_ID  ...  \\\n",
              "0      2/24/2003 0:00   Shipped       1         2     2003  ...   \n",
              "1       5/7/2003 0:00   Shipped       2         5     2003  ...   \n",
              "2       7/1/2003 0:00   Shipped       3         7     2003  ...   \n",
              "3      8/25/2003 0:00   Shipped       3         8     2003  ...   \n",
              "4     10/10/2003 0:00   Shipped       4        10     2003  ...   \n",
              "...               ...       ...     ...       ...      ...  ...   \n",
              "2818   12/2/2004 0:00   Shipped       4        12     2004  ...   \n",
              "2819   1/31/2005 0:00   Shipped       1         1     2005  ...   \n",
              "2820    3/1/2005 0:00  Resolved       1         3     2005  ...   \n",
              "2821   3/28/2005 0:00   Shipped       1         3     2005  ...   \n",
              "2822    5/6/2005 0:00   On Hold       2         5     2005  ...   \n",
              "\n",
              "                       ADDRESSLINE1  ADDRESSLINE2           CITY STATE  \\\n",
              "0           897 Long Airport Avenue           NaN            NYC    NY   \n",
              "1                59 rue de l'Abbaye           NaN          Reims   NaN   \n",
              "2     27 rue du Colonel Pierre Avia           NaN          Paris   NaN   \n",
              "3                78934 Hillside Dr.           NaN       Pasadena    CA   \n",
              "4                   7734 Strong St.           NaN  San Francisco    CA   \n",
              "...                             ...           ...            ...   ...   \n",
              "2818             C/ Moralzarzal, 86           NaN         Madrid   NaN   \n",
              "2819                    Torikatu 38           NaN           Oulu   NaN   \n",
              "2820             C/ Moralzarzal, 86           NaN         Madrid   NaN   \n",
              "2821          1 rue Alsace-Lorraine           NaN       Toulouse   NaN   \n",
              "2822             8616 Spinnaker Dr.           NaN         Boston    MA   \n",
              "\n",
              "     POSTALCODE  COUNTRY TERRITORY CONTACTLASTNAME CONTACTFIRSTNAME DEALSIZE  \n",
              "0         10022      USA       NaN              Yu             Kwai    Small  \n",
              "1         51100   France      EMEA         Henriot             Paul    Small  \n",
              "2         75508   France      EMEA        Da Cunha           Daniel   Medium  \n",
              "3         90003      USA       NaN           Young            Julie   Medium  \n",
              "4           NaN      USA       NaN           Brown            Julie   Medium  \n",
              "...         ...      ...       ...             ...              ...      ...  \n",
              "2818      28034    Spain      EMEA          Freyre            Diego    Small  \n",
              "2819      90110  Finland      EMEA       Koskitalo           Pirkko   Medium  \n",
              "2820      28034    Spain      EMEA          Freyre            Diego   Medium  \n",
              "2821      31000   France      EMEA          Roulet          Annette    Small  \n",
              "2822      51003      USA       NaN         Yoshido             Juri   Medium  \n",
              "\n",
              "[2823 rows x 25 columns]>"
            ]
          },
          "metadata": {},
          "execution_count": 7
        }
      ]
    },
    {
      "cell_type": "code",
      "source": [
        "df.isnull().sum()"
      ],
      "metadata": {
        "colab": {
          "base_uri": "https://localhost:8080/"
        },
        "id": "emXoIX5MF1Ao",
        "outputId": "1646b5fa-9938-457e-a894-a488297c507e"
      },
      "execution_count": 8,
      "outputs": [
        {
          "output_type": "execute_result",
          "data": {
            "text/plain": [
              "ORDERNUMBER            0\n",
              "QUANTITYORDERED        0\n",
              "PRICEEACH              0\n",
              "ORDERLINENUMBER        0\n",
              "SALES                  0\n",
              "ORDERDATE              0\n",
              "STATUS                 0\n",
              "QTR_ID                 0\n",
              "MONTH_ID               0\n",
              "YEAR_ID                0\n",
              "PRODUCTLINE            0\n",
              "MSRP                   0\n",
              "PRODUCTCODE            0\n",
              "CUSTOMERNAME           0\n",
              "PHONE                  0\n",
              "ADDRESSLINE1           0\n",
              "ADDRESSLINE2        2521\n",
              "CITY                   0\n",
              "STATE               1486\n",
              "POSTALCODE            76\n",
              "COUNTRY                0\n",
              "TERRITORY           1074\n",
              "CONTACTLASTNAME        0\n",
              "CONTACTFIRSTNAME       0\n",
              "DEALSIZE               0\n",
              "dtype: int64"
            ]
          },
          "metadata": {},
          "execution_count": 8
        }
      ]
    },
    {
      "cell_type": "markdown",
      "source": [
        "\n",
        "\n",
        "we have ADDRESSLINE2, STATE, POSTALCODE and TERRITORY these columns have null values"
      ],
      "metadata": {
        "id": "KpRP3FopKiAb"
      }
    },
    {
      "cell_type": "code",
      "source": [
        "#we can drop city, address1, phone number, contact_name, contact last_name and contact first_name since they are not required for the analysis\n",
        "to_drop  = ['ADDRESSLINE1', 'ADDRESSLINE2', 'POSTALCODE', 'CITY', 'TERRITORY', 'PHONE', 'STATE', 'CONTACTFIRSTNAME', 'CONTACTLASTNAME', 'CUSTOMERNAME', 'ORDERNUMBER']\n",
        "df = df.drop(to_drop, axis = 1)\n",
        "df.isnull().sum()"
      ],
      "metadata": {
        "colab": {
          "base_uri": "https://localhost:8080/"
        },
        "id": "qfrX6fehGgpu",
        "outputId": "97e7b526-e8b9-4010-c614-7654bba15ef6"
      },
      "execution_count": 9,
      "outputs": [
        {
          "output_type": "execute_result",
          "data": {
            "text/plain": [
              "QUANTITYORDERED    0\n",
              "PRICEEACH          0\n",
              "ORDERLINENUMBER    0\n",
              "SALES              0\n",
              "ORDERDATE          0\n",
              "STATUS             0\n",
              "QTR_ID             0\n",
              "MONTH_ID           0\n",
              "YEAR_ID            0\n",
              "PRODUCTLINE        0\n",
              "MSRP               0\n",
              "PRODUCTCODE        0\n",
              "COUNTRY            0\n",
              "DEALSIZE           0\n",
              "dtype: int64"
            ]
          },
          "metadata": {},
          "execution_count": 9
        }
      ]
    },
    {
      "cell_type": "code",
      "source": [
        "df.head()"
      ],
      "metadata": {
        "colab": {
          "base_uri": "https://localhost:8080/",
          "height": 357
        },
        "id": "9uIz0GawLEo6",
        "outputId": "1ef4ac7d-1ef9-444c-e2af-c347cb7d694a"
      },
      "execution_count": 10,
      "outputs": [
        {
          "output_type": "execute_result",
          "data": {
            "text/plain": [
              "   QUANTITYORDERED  PRICEEACH  ORDERLINENUMBER    SALES        ORDERDATE  \\\n",
              "0               30      95.70                2  2871.00   2/24/2003 0:00   \n",
              "1               34      81.35                5  2765.90    5/7/2003 0:00   \n",
              "2               41      94.74                2  3884.34    7/1/2003 0:00   \n",
              "3               45      83.26                6  3746.70   8/25/2003 0:00   \n",
              "4               49     100.00               14  5205.27  10/10/2003 0:00   \n",
              "\n",
              "    STATUS  QTR_ID  MONTH_ID  YEAR_ID  PRODUCTLINE  MSRP PRODUCTCODE COUNTRY  \\\n",
              "0  Shipped       1         2     2003  Motorcycles    95    S10_1678     USA   \n",
              "1  Shipped       2         5     2003  Motorcycles    95    S10_1678  France   \n",
              "2  Shipped       3         7     2003  Motorcycles    95    S10_1678  France   \n",
              "3  Shipped       3         8     2003  Motorcycles    95    S10_1678     USA   \n",
              "4  Shipped       4        10     2003  Motorcycles    95    S10_1678     USA   \n",
              "\n",
              "  DEALSIZE  \n",
              "0    Small  \n",
              "1    Small  \n",
              "2   Medium  \n",
              "3   Medium  \n",
              "4   Medium  "
            ],
            "text/html": [
              "\n",
              "  <div id=\"df-e4a75877-7bb2-457c-aa25-492c22c69ad3\">\n",
              "    <div class=\"colab-df-container\">\n",
              "      <div>\n",
              "<style scoped>\n",
              "    .dataframe tbody tr th:only-of-type {\n",
              "        vertical-align: middle;\n",
              "    }\n",
              "\n",
              "    .dataframe tbody tr th {\n",
              "        vertical-align: top;\n",
              "    }\n",
              "\n",
              "    .dataframe thead th {\n",
              "        text-align: right;\n",
              "    }\n",
              "</style>\n",
              "<table border=\"1\" class=\"dataframe\">\n",
              "  <thead>\n",
              "    <tr style=\"text-align: right;\">\n",
              "      <th></th>\n",
              "      <th>QUANTITYORDERED</th>\n",
              "      <th>PRICEEACH</th>\n",
              "      <th>ORDERLINENUMBER</th>\n",
              "      <th>SALES</th>\n",
              "      <th>ORDERDATE</th>\n",
              "      <th>STATUS</th>\n",
              "      <th>QTR_ID</th>\n",
              "      <th>MONTH_ID</th>\n",
              "      <th>YEAR_ID</th>\n",
              "      <th>PRODUCTLINE</th>\n",
              "      <th>MSRP</th>\n",
              "      <th>PRODUCTCODE</th>\n",
              "      <th>COUNTRY</th>\n",
              "      <th>DEALSIZE</th>\n",
              "    </tr>\n",
              "  </thead>\n",
              "  <tbody>\n",
              "    <tr>\n",
              "      <th>0</th>\n",
              "      <td>30</td>\n",
              "      <td>95.70</td>\n",
              "      <td>2</td>\n",
              "      <td>2871.00</td>\n",
              "      <td>2/24/2003 0:00</td>\n",
              "      <td>Shipped</td>\n",
              "      <td>1</td>\n",
              "      <td>2</td>\n",
              "      <td>2003</td>\n",
              "      <td>Motorcycles</td>\n",
              "      <td>95</td>\n",
              "      <td>S10_1678</td>\n",
              "      <td>USA</td>\n",
              "      <td>Small</td>\n",
              "    </tr>\n",
              "    <tr>\n",
              "      <th>1</th>\n",
              "      <td>34</td>\n",
              "      <td>81.35</td>\n",
              "      <td>5</td>\n",
              "      <td>2765.90</td>\n",
              "      <td>5/7/2003 0:00</td>\n",
              "      <td>Shipped</td>\n",
              "      <td>2</td>\n",
              "      <td>5</td>\n",
              "      <td>2003</td>\n",
              "      <td>Motorcycles</td>\n",
              "      <td>95</td>\n",
              "      <td>S10_1678</td>\n",
              "      <td>France</td>\n",
              "      <td>Small</td>\n",
              "    </tr>\n",
              "    <tr>\n",
              "      <th>2</th>\n",
              "      <td>41</td>\n",
              "      <td>94.74</td>\n",
              "      <td>2</td>\n",
              "      <td>3884.34</td>\n",
              "      <td>7/1/2003 0:00</td>\n",
              "      <td>Shipped</td>\n",
              "      <td>3</td>\n",
              "      <td>7</td>\n",
              "      <td>2003</td>\n",
              "      <td>Motorcycles</td>\n",
              "      <td>95</td>\n",
              "      <td>S10_1678</td>\n",
              "      <td>France</td>\n",
              "      <td>Medium</td>\n",
              "    </tr>\n",
              "    <tr>\n",
              "      <th>3</th>\n",
              "      <td>45</td>\n",
              "      <td>83.26</td>\n",
              "      <td>6</td>\n",
              "      <td>3746.70</td>\n",
              "      <td>8/25/2003 0:00</td>\n",
              "      <td>Shipped</td>\n",
              "      <td>3</td>\n",
              "      <td>8</td>\n",
              "      <td>2003</td>\n",
              "      <td>Motorcycles</td>\n",
              "      <td>95</td>\n",
              "      <td>S10_1678</td>\n",
              "      <td>USA</td>\n",
              "      <td>Medium</td>\n",
              "    </tr>\n",
              "    <tr>\n",
              "      <th>4</th>\n",
              "      <td>49</td>\n",
              "      <td>100.00</td>\n",
              "      <td>14</td>\n",
              "      <td>5205.27</td>\n",
              "      <td>10/10/2003 0:00</td>\n",
              "      <td>Shipped</td>\n",
              "      <td>4</td>\n",
              "      <td>10</td>\n",
              "      <td>2003</td>\n",
              "      <td>Motorcycles</td>\n",
              "      <td>95</td>\n",
              "      <td>S10_1678</td>\n",
              "      <td>USA</td>\n",
              "      <td>Medium</td>\n",
              "    </tr>\n",
              "  </tbody>\n",
              "</table>\n",
              "</div>\n",
              "      <button class=\"colab-df-convert\" onclick=\"convertToInteractive('df-e4a75877-7bb2-457c-aa25-492c22c69ad3')\"\n",
              "              title=\"Convert this dataframe to an interactive table.\"\n",
              "              style=\"display:none;\">\n",
              "        \n",
              "  <svg xmlns=\"http://www.w3.org/2000/svg\" height=\"24px\"viewBox=\"0 0 24 24\"\n",
              "       width=\"24px\">\n",
              "    <path d=\"M0 0h24v24H0V0z\" fill=\"none\"/>\n",
              "    <path d=\"M18.56 5.44l.94 2.06.94-2.06 2.06-.94-2.06-.94-.94-2.06-.94 2.06-2.06.94zm-11 1L8.5 8.5l.94-2.06 2.06-.94-2.06-.94L8.5 2.5l-.94 2.06-2.06.94zm10 10l.94 2.06.94-2.06 2.06-.94-2.06-.94-.94-2.06-.94 2.06-2.06.94z\"/><path d=\"M17.41 7.96l-1.37-1.37c-.4-.4-.92-.59-1.43-.59-.52 0-1.04.2-1.43.59L10.3 9.45l-7.72 7.72c-.78.78-.78 2.05 0 2.83L4 21.41c.39.39.9.59 1.41.59.51 0 1.02-.2 1.41-.59l7.78-7.78 2.81-2.81c.8-.78.8-2.07 0-2.86zM5.41 20L4 18.59l7.72-7.72 1.47 1.35L5.41 20z\"/>\n",
              "  </svg>\n",
              "      </button>\n",
              "      \n",
              "  <style>\n",
              "    .colab-df-container {\n",
              "      display:flex;\n",
              "      flex-wrap:wrap;\n",
              "      gap: 12px;\n",
              "    }\n",
              "\n",
              "    .colab-df-convert {\n",
              "      background-color: #E8F0FE;\n",
              "      border: none;\n",
              "      border-radius: 50%;\n",
              "      cursor: pointer;\n",
              "      display: none;\n",
              "      fill: #1967D2;\n",
              "      height: 32px;\n",
              "      padding: 0 0 0 0;\n",
              "      width: 32px;\n",
              "    }\n",
              "\n",
              "    .colab-df-convert:hover {\n",
              "      background-color: #E2EBFA;\n",
              "      box-shadow: 0px 1px 2px rgba(60, 64, 67, 0.3), 0px 1px 3px 1px rgba(60, 64, 67, 0.15);\n",
              "      fill: #174EA6;\n",
              "    }\n",
              "\n",
              "    [theme=dark] .colab-df-convert {\n",
              "      background-color: #3B4455;\n",
              "      fill: #D2E3FC;\n",
              "    }\n",
              "\n",
              "    [theme=dark] .colab-df-convert:hover {\n",
              "      background-color: #434B5C;\n",
              "      box-shadow: 0px 1px 3px 1px rgba(0, 0, 0, 0.15);\n",
              "      filter: drop-shadow(0px 1px 2px rgba(0, 0, 0, 0.3));\n",
              "      fill: #FFFFFF;\n",
              "    }\n",
              "  </style>\n",
              "\n",
              "      <script>\n",
              "        const buttonEl =\n",
              "          document.querySelector('#df-e4a75877-7bb2-457c-aa25-492c22c69ad3 button.colab-df-convert');\n",
              "        buttonEl.style.display =\n",
              "          google.colab.kernel.accessAllowed ? 'block' : 'none';\n",
              "\n",
              "        async function convertToInteractive(key) {\n",
              "          const element = document.querySelector('#df-e4a75877-7bb2-457c-aa25-492c22c69ad3');\n",
              "          const dataTable =\n",
              "            await google.colab.kernel.invokeFunction('convertToInteractive',\n",
              "                                                     [key], {});\n",
              "          if (!dataTable) return;\n",
              "\n",
              "          const docLinkHtml = 'Like what you see? Visit the ' +\n",
              "            '<a target=\"_blank\" href=https://colab.research.google.com/notebooks/data_table.ipynb>data table notebook</a>'\n",
              "            + ' to learn more about interactive tables.';\n",
              "          element.innerHTML = '';\n",
              "          dataTable['output_type'] = 'display_data';\n",
              "          await google.colab.output.renderOutput(dataTable, element);\n",
              "          const docLink = document.createElement('div');\n",
              "          docLink.innerHTML = docLinkHtml;\n",
              "          element.appendChild(docLink);\n",
              "        }\n",
              "      </script>\n",
              "    </div>\n",
              "  </div>\n",
              "  "
            ]
          },
          "metadata": {},
          "execution_count": 10
        }
      ]
    },
    {
      "cell_type": "markdown",
      "source": [
        "# Implement K-means Clustering on sales_data_sample.csv dataset."
      ],
      "metadata": {
        "id": "ifz4ALcdLNCg"
      }
    },
    {
      "cell_type": "markdown",
      "source": [
        "Here, we are implement k-means clustering for QuantityOrdered and OrderLineNumber features of the datasets"
      ],
      "metadata": {
        "id": "RdVUc0MfLqvo"
      }
    },
    {
      "cell_type": "code",
      "source": [
        "df = df[['QUANTITYORDERED', 'ORDERLINENUMBER']]\n",
        "df = df.dropna(axis = 0)"
      ],
      "metadata": {
        "id": "Y9aBMj3_Gg1Z"
      },
      "execution_count": 11,
      "outputs": []
    },
    {
      "cell_type": "code",
      "source": [
        "from sklearn.preprocessing import StandardScaler\n",
        "# Scale the data\n",
        "scaler = StandardScaler()\n",
        "df_scaled = scaler.fit_transform(df)"
      ],
      "metadata": {
        "id": "UHYVoAMQGj32"
      },
      "execution_count": 12,
      "outputs": []
    },
    {
      "cell_type": "code",
      "source": [
        "from sklearn.cluster import KMeans\n",
        "wcss = []\n",
        "\n",
        "for i in range(1, 11):\n",
        "    clustering = KMeans(n_clusters=i, init='k-means++', random_state=42)\n",
        "    clustering.fit(df_scaled)\n",
        "    wcss.append(clustering.inertia_)\n",
        "    \n",
        "ks = [1, 2, 3, 4, 5, 6, 7, 8, 9, 10]\n",
        "sns.lineplot(x = ks, y = wcss);"
      ],
      "metadata": {
        "colab": {
          "base_uri": "https://localhost:8080/",
          "height": 265
        },
        "id": "2V--b-qtLbnr",
        "outputId": "c2256016-962e-4232-d721-c09de1d0f709"
      },
      "execution_count": 13,
      "outputs": [
        {
          "output_type": "display_data",
          "data": {
            "text/plain": [
              "<Figure size 432x288 with 1 Axes>"
            ],
            "image/png": "[encoded data removed]"
          },
          "metadata": {
            "needs_background": "light"
          }
        }
      ]
    },
    {
      "cell_type": "code",
      "source": [
        "fig, axes = plt.subplots(nrows=1, ncols=2, figsize=(15,5))\n",
        "sns.scatterplot(ax=axes[0], data=df, x='QUANTITYORDERED', y='ORDERLINENUMBER').set_title('Without clustering')\n",
        "sns.scatterplot(ax=axes[1], data=df, x='QUANTITYORDERED', y='ORDERLINENUMBER', hue=clustering.labels_).set_title('Using the elbow method');"
      ],
      "metadata": {
        "colab": {
          "base_uri": "https://localhost:8080/",
          "height": 350
        },
        "id": "F5HrUyn0GmNE",
        "outputId": "013bc018-6692-4f81-eec8-53e045a9bf2b"
      },
      "execution_count": 14,
      "outputs": [
        {
          "output_type": "display_data",
          "data": {
            "text/plain": [
              "<Figure size 1080x360 with 2 Axes>"
            ],
            "image/png": "[encoded data removed]"
          },
          "metadata": {
            "needs_background": "light"
          }
        }
      ]
    },
    {
      "cell_type": "code",
      "source": [
        "df.describe().T"
      ],
      "metadata": {
        "colab": {
          "base_uri": "https://localhost:8080/",
          "height": 112
        },
        "id": "tr_EncpQGpXa",
        "outputId": "67bb184c-9547-497c-a211-ed89b8fea3a8"
      },
      "execution_count": 15,
      "outputs": [
        {
          "output_type": "execute_result",
          "data": {
            "text/plain": [
              "                  count       mean       std  min   25%   50%   75%   max\n",
              "QUANTITYORDERED  2823.0  35.092809  9.741443  6.0  27.0  35.0  43.0  97.0\n",
              "ORDERLINENUMBER  2823.0   6.466171  4.225841  1.0   3.0   6.0   9.0  18.0"
            ],
            "text/html": [
              "\n",
              "  <div id=\"df-957c331f-874b-4b3e-a1fc-990085c449ba\">\n",
              "    <div class=\"colab-df-container\">\n",
              "      <div>\n",
              "<style scoped>\n",
              "    .dataframe tbody tr th:only-of-type {\n",
              "        vertical-align: middle;\n",
              "    }\n",
              "\n",
              "    .dataframe tbody tr th {\n",
              "        vertical-align: top;\n",
              "    }\n",
              "\n",
              "    .dataframe thead th {\n",
              "        text-align: right;\n",
              "    }\n",
              "</style>\n",
              "<table border=\"1\" class=\"dataframe\">\n",
              "  <thead>\n",
              "    <tr style=\"text-align: right;\">\n",
              "      <th></th>\n",
              "      <th>count</th>\n",
              "      <th>mean</th>\n",
              "      <th>std</th>\n",
              "      <th>min</th>\n",
              "      <th>25%</th>\n",
              "      <th>50%</th>\n",
              "      <th>75%</th>\n",
              "      <th>max</th>\n",
              "    </tr>\n",
              "  </thead>\n",
              "  <tbody>\n",
              "    <tr>\n",
              "      <th>QUANTITYORDERED</th>\n",
              "      <td>2823.0</td>\n",
              "      <td>35.092809</td>\n",
              "      <td>9.741443</td>\n",
              "      <td>6.0</td>\n",
              "      <td>27.0</td>\n",
              "      <td>35.0</td>\n",
              "      <td>43.0</td>\n",
              "      <td>97.0</td>\n",
              "    </tr>\n",
              "    <tr>\n",
              "      <th>ORDERLINENUMBER</th>\n",
              "      <td>2823.0</td>\n",
              "      <td>6.466171</td>\n",
              "      <td>4.225841</td>\n",
              "      <td>1.0</td>\n",
              "      <td>3.0</td>\n",
              "      <td>6.0</td>\n",
              "      <td>9.0</td>\n",
              "      <td>18.0</td>\n",
              "    </tr>\n",
              "  </tbody>\n",
              "</table>\n",
              "</div>\n",
              "      <button class=\"colab-df-convert\" onclick=\"convertToInteractive('df-957c331f-874b-4b3e-a1fc-990085c449ba')\"\n",
              "              title=\"Convert this dataframe to an interactive table.\"\n",
              "              style=\"display:none;\">\n",
              "        \n",
              "  <svg xmlns=\"http://www.w3.org/2000/svg\" height=\"24px\"viewBox=\"0 0 24 24\"\n",
              "       width=\"24px\">\n",
              "    <path d=\"M0 0h24v24H0V0z\" fill=\"none\"/>\n",
              "    <path d=\"M18.56 5.44l.94 2.06.94-2.06 2.06-.94-2.06-.94-.94-2.06-.94 2.06-2.06.94zm-11 1L8.5 8.5l.94-2.06 2.06-.94-2.06-.94L8.5 2.5l-.94 2.06-2.06.94zm10 10l.94 2.06.94-2.06 2.06-.94-2.06-.94-.94-2.06-.94 2.06-2.06.94z\"/><path d=\"M17.41 7.96l-1.37-1.37c-.4-.4-.92-.59-1.43-.59-.52 0-1.04.2-1.43.59L10.3 9.45l-7.72 7.72c-.78.78-.78 2.05 0 2.83L4 21.41c.39.39.9.59 1.41.59.51 0 1.02-.2 1.41-.59l7.78-7.78 2.81-2.81c.8-.78.8-2.07 0-2.86zM5.41 20L4 18.59l7.72-7.72 1.47 1.35L5.41 20z\"/>\n",
              "  </svg>\n",
              "      </button>\n",
              "      \n",
              "  <style>\n",
              "    .colab-df-container {\n",
              "      display:flex;\n",
              "      flex-wrap:wrap;\n",
              "      gap: 12px;\n",
              "    }\n",
              "\n",
              "    .colab-df-convert {\n",
              "      background-color: #E8F0FE;\n",
              "      border: none;\n",
              "      border-radius: 50%;\n",
              "      cursor: pointer;\n",
              "      display: none;\n",
              "      fill: #1967D2;\n",
              "      height: 32px;\n",
              "      padding: 0 0 0 0;\n",
              "      width: 32px;\n",
              "    }\n",
              "\n",
              "    .colab-df-convert:hover {\n",
              "      background-color: #E2EBFA;\n",
              "      box-shadow: 0px 1px 2px rgba(60, 64, 67, 0.3), 0px 1px 3px 1px rgba(60, 64, 67, 0.15);\n",
              "      fill: #174EA6;\n",
              "    }\n",
              "\n",
              "    [theme=dark] .colab-df-convert {\n",
              "      background-color: #3B4455;\n",
              "      fill: #D2E3FC;\n",
              "    }\n",
              "\n",
              "    [theme=dark] .colab-df-convert:hover {\n",
              "      background-color: #434B5C;\n",
              "      box-shadow: 0px 1px 3px 1px rgba(0, 0, 0, 0.15);\n",
              "      filter: drop-shadow(0px 1px 2px rgba(0, 0, 0, 0.3));\n",
              "      fill: #FFFFFF;\n",
              "    }\n",
              "  </style>\n",
              "\n",
              "      <script>\n",
              "        const buttonEl =\n",
              "          document.querySelector('#df-957c331f-874b-4b3e-a1fc-990085c449ba button.colab-df-convert');\n",
              "        buttonEl.style.display =\n",
              "          google.colab.kernel.accessAllowed ? 'block' : 'none';\n",
              "\n",
              "        async function convertToInteractive(key) {\n",
              "          const element = document.querySelector('#df-957c331f-874b-4b3e-a1fc-990085c449ba');\n",
              "          const dataTable =\n",
              "            await google.colab.kernel.invokeFunction('convertToInteractive',\n",
              "                                                     [key], {});\n",
              "          if (!dataTable) return;\n",
              "\n",
              "          const docLinkHtml = 'Like what you see? Visit the ' +\n",
              "            '<a target=\"_blank\" href=https://colab.research.google.com/notebooks/data_table.ipynb>data table notebook</a>'\n",
              "            + ' to learn more about interactive tables.';\n",
              "          element.innerHTML = '';\n",
              "          dataTable['output_type'] = 'display_data';\n",
              "          await google.colab.output.renderOutput(dataTable, element);\n",
              "          const docLink = document.createElement('div');\n",
              "          docLink.innerHTML = docLinkHtml;\n",
              "          element.appendChild(docLink);\n",
              "        }\n",
              "      </script>\n",
              "    </div>\n",
              "  </div>\n",
              "  "
            ]
          },
          "metadata": {},
          "execution_count": 15
        }
      ]
    }
  ]
}