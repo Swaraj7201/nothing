{
  "cells": [
    {
      "cell_type": "markdown",
      "id": "891bf886",
      "metadata": {
        "id": "891bf886"
      },
      "source": [
        "# **Problem Statement**\n",
        "Predict the price of the Uber ride from a given pickup point to\n",
        "the agreed drop-off location. Perform following tasks:\n",
        "1. Pre-process the dataset.\n",
        "2. Identify outliers.\n",
        "3. Check the correlation.\n",
        "4. Implement linear regression and random forest regression\n",
        "models.\n",
        "5. Evaluate the models and compare their respective\n",
        "scores like R2, RMSE, etc. Dataset link:\n",
        "https://www.kaggle.com/datasets/yasserh/uber-fares-\n",
        "dataset"
      ]
    },
    {
      "cell_type": "code",
      "execution_count": null,
      "id": "cd488566",
      "metadata": {
        "id": "cd488566"
      },
      "outputs": [],
      "source": [
        "import pandas as pd\n",
        "import numpy as np\n",
        "import matplotlib.pyplot as plt\n",
        "import seaborn as sns"
      ]
    },
    {
      "cell_type": "code",
      "execution_count": null,
      "id": "e2d4464b",
      "metadata": {
        "id": "e2d4464b"
      },
      "outputs": [],
      "source": [
        "df = pd.read_csv(\"uber.csv\")"
      ]
    },
    {
      "cell_type": "code",
      "execution_count": null,
      "id": "7732ae13",
      "metadata": {
        "colab": {
          "base_uri": "https://localhost:8080/"
        },
        "id": "7732ae13",
        "outputId": "33d163d0-20ec-459f-be8b-b88882165310"
      },
      "outputs": [
        {
          "output_type": "execute_result",
          "data": {
            "text/plain": [
              "(200000, 9)"
            ]
          },
          "metadata": {},
          "execution_count": 99
        }
      ],
      "source": [
        "df.shape"
      ]
    },
    {
      "cell_type": "code",
      "execution_count": null,
      "id": "07a9be5f",
      "metadata": {
        "colab": {
          "base_uri": "https://localhost:8080/"
        },
        "id": "07a9be5f",
        "outputId": "6af22e63-c44b-4224-d51e-382632525726"
      },
      "outputs": [
        {
          "output_type": "stream",
          "name": "stdout",
          "text": [
            "<class 'pandas.core.frame.DataFrame'>\n",
            "RangeIndex: 200000 entries, 0 to 199999\n",
            "Data columns (total 9 columns):\n",
            " #   Column             Non-Null Count   Dtype  \n",
            "---  ------             --------------   -----  \n",
            " 0   Unnamed: 0         200000 non-null  int64  \n",
            " 1   key                200000 non-null  object \n",
            " 2   fare_amount        200000 non-null  float64\n",
            " 3   pickup_datetime    200000 non-null  object \n",
            " 4   pickup_longitude   200000 non-null  float64\n",
            " 5   pickup_latitude    200000 non-null  float64\n",
            " 6   dropoff_longitude  199999 non-null  float64\n",
            " 7   dropoff_latitude   199999 non-null  float64\n",
            " 8   passenger_count    200000 non-null  int64  \n",
            "dtypes: float64(5), int64(2), object(2)\n",
            "memory usage: 13.7+ MB\n"
          ]
        }
      ],
      "source": [
        "df.info()"
      ]
    },
    {
      "cell_type": "code",
      "execution_count": null,
      "id": "4b155271",
      "metadata": {
        "colab": {
          "base_uri": "https://localhost:8080/",
          "height": 374
        },
        "id": "4b155271",
        "outputId": "5c932b1d-1de7-4774-f096-8b692ef22006"
      },
      "outputs": [
        {
          "output_type": "execute_result",
          "data": {
            "text/plain": [
              "   Unnamed: 0                            key  fare_amount  \\\n",
              "0    24238194    2015-05-07 19:52:06.0000003          7.5   \n",
              "1    27835199    2009-07-17 20:04:56.0000002          7.7   \n",
              "2    44984355   2009-08-24 21:45:00.00000061         12.9   \n",
              "3    25894730    2009-06-26 08:22:21.0000001          5.3   \n",
              "4    17610152  2014-08-28 17:47:00.000000188         16.0   \n",
              "\n",
              "           pickup_datetime  pickup_longitude  pickup_latitude  \\\n",
              "0  2015-05-07 19:52:06 UTC        -73.999817        40.738354   \n",
              "1  2009-07-17 20:04:56 UTC        -73.994355        40.728225   \n",
              "2  2009-08-24 21:45:00 UTC        -74.005043        40.740770   \n",
              "3  2009-06-26 08:22:21 UTC        -73.976124        40.790844   \n",
              "4  2014-08-28 17:47:00 UTC        -73.925023        40.744085   \n",
              "\n",
              "   dropoff_longitude  dropoff_latitude  passenger_count  \n",
              "0         -73.999512         40.723217                1  \n",
              "1         -73.994710         40.750325                1  \n",
              "2         -73.962565         40.772647                1  \n",
              "3         -73.965316         40.803349                3  \n",
              "4         -73.973082         40.761247                5  "
            ],
            "text/html": [
              "\n",
              "  <div id=\"df-00ba309f-1520-4c62-9f31-789ce4f96211\">\n",
              "    <div class=\"colab-df-container\">\n",
              "      <div>\n",
              "<style scoped>\n",
              "    .dataframe tbody tr th:only-of-type {\n",
              "        vertical-align: middle;\n",
              "    }\n",
              "\n",
              "    .dataframe tbody tr th {\n",
              "        vertical-align: top;\n",
              "    }\n",
              "\n",
              "    .dataframe thead th {\n",
              "        text-align: right;\n",
              "    }\n",
              "</style>\n",
              "<table border=\"1\" class=\"dataframe\">\n",
              "  <thead>\n",
              "    <tr style=\"text-align: right;\">\n",
              "      <th></th>\n",
              "      <th>Unnamed: 0</th>\n",
              "      <th>key</th>\n",
              "      <th>fare_amount</th>\n",
              "      <th>pickup_datetime</th>\n",
              "      <th>pickup_longitude</th>\n",
              "      <th>pickup_latitude</th>\n",
              "      <th>dropoff_longitude</th>\n",
              "      <th>dropoff_latitude</th>\n",
              "      <th>passenger_count</th>\n",
              "    </tr>\n",
              "  </thead>\n",
              "  <tbody>\n",
              "    <tr>\n",
              "      <th>0</th>\n",
              "      <td>24238194</td>\n",
              "      <td>2015-05-07 19:52:06.0000003</td>\n",
              "      <td>7.5</td>\n",
              "      <td>2015-05-07 19:52:06 UTC</td>\n",
              "      <td>-73.999817</td>\n",
              "      <td>40.738354</td>\n",
              "      <td>-73.999512</td>\n",
              "      <td>40.723217</td>\n",
              "      <td>1</td>\n",
              "    </tr>\n",
              "    <tr>\n",
              "      <th>1</th>\n",
              "      <td>27835199</td>\n",
              "      <td>2009-07-17 20:04:56.0000002</td>\n",
              "      <td>7.7</td>\n",
              "      <td>2009-07-17 20:04:56 UTC</td>\n",
              "      <td>-73.994355</td>\n",
              "      <td>40.728225</td>\n",
              "      <td>-73.994710</td>\n",
              "      <td>40.750325</td>\n",
              "      <td>1</td>\n",
              "    </tr>\n",
              "    <tr>\n",
              "      <th>2</th>\n",
              "      <td>44984355</td>\n",
              "      <td>2009-08-24 21:45:00.00000061</td>\n",
              "      <td>12.9</td>\n",
              "      <td>2009-08-24 21:45:00 UTC</td>\n",
              "      <td>-74.005043</td>\n",
              "      <td>40.740770</td>\n",
              "      <td>-73.962565</td>\n",
              "      <td>40.772647</td>\n",
              "      <td>1</td>\n",
              "    </tr>\n",
              "    <tr>\n",
              "      <th>3</th>\n",
              "      <td>25894730</td>\n",
              "      <td>2009-06-26 08:22:21.0000001</td>\n",
              "      <td>5.3</td>\n",
              "      <td>2009-06-26 08:22:21 UTC</td>\n",
              "      <td>-73.976124</td>\n",
              "      <td>40.790844</td>\n",
              "      <td>-73.965316</td>\n",
              "      <td>40.803349</td>\n",
              "      <td>3</td>\n",
              "    </tr>\n",
              "    <tr>\n",
              "      <th>4</th>\n",
              "      <td>17610152</td>\n",
              "      <td>2014-08-28 17:47:00.000000188</td>\n",
              "      <td>16.0</td>\n",
              "      <td>2014-08-28 17:47:00 UTC</td>\n",
              "      <td>-73.925023</td>\n",
              "      <td>40.744085</td>\n",
              "      <td>-73.973082</td>\n",
              "      <td>40.761247</td>\n",
              "      <td>5</td>\n",
              "    </tr>\n",
              "  </tbody>\n",
              "</table>\n",
              "</div>\n",
              "      <button class=\"colab-df-convert\" onclick=\"convertToInteractive('df-00ba309f-1520-4c62-9f31-789ce4f96211')\"\n",
              "              title=\"Convert this dataframe to an interactive table.\"\n",
              "              style=\"display:none;\">\n",
              "        \n",
              "  <svg xmlns=\"http://www.w3.org/2000/svg\" height=\"24px\"viewBox=\"0 0 24 24\"\n",
              "       width=\"24px\">\n",
              "    <path d=\"M0 0h24v24H0V0z\" fill=\"none\"/>\n",
              "    <path d=\"M18.56 5.44l.94 2.06.94-2.06 2.06-.94-2.06-.94-.94-2.06-.94 2.06-2.06.94zm-11 1L8.5 8.5l.94-2.06 2.06-.94-2.06-.94L8.5 2.5l-.94 2.06-2.06.94zm10 10l.94 2.06.94-2.06 2.06-.94-2.06-.94-.94-2.06-.94 2.06-2.06.94z\"/><path d=\"M17.41 7.96l-1.37-1.37c-.4-.4-.92-.59-1.43-.59-.52 0-1.04.2-1.43.59L10.3 9.45l-7.72 7.72c-.78.78-.78 2.05 0 2.83L4 21.41c.39.39.9.59 1.41.59.51 0 1.02-.2 1.41-.59l7.78-7.78 2.81-2.81c.8-.78.8-2.07 0-2.86zM5.41 20L4 18.59l7.72-7.72 1.47 1.35L5.41 20z\"/>\n",
              "  </svg>\n",
              "      </button>\n",
              "      \n",
              "  <style>\n",
              "    .colab-df-container {\n",
              "      display:flex;\n",
              "      flex-wrap:wrap;\n",
              "      gap: 12px;\n",
              "    }\n",
              "\n",
              "    .colab-df-convert {\n",
              "      background-color: #E8F0FE;\n",
              "      border: none;\n",
              "      border-radius: 50%;\n",
              "      cursor: pointer;\n",
              "      display: none;\n",
              "      fill: #1967D2;\n",
              "      height: 32px;\n",
              "      padding: 0 0 0 0;\n",
              "      width: 32px;\n",
              "    }\n",
              "\n",
              "    .colab-df-convert:hover {\n",
              "      background-color: #E2EBFA;\n",
              "      box-shadow: 0px 1px 2px rgba(60, 64, 67, 0.3), 0px 1px 3px 1px rgba(60, 64, 67, 0.15);\n",
              "      fill: #174EA6;\n",
              "    }\n",
              "\n",
              "    [theme=dark] .colab-df-convert {\n",
              "      background-color: #3B4455;\n",
              "      fill: #D2E3FC;\n",
              "    }\n",
              "\n",
              "    [theme=dark] .colab-df-convert:hover {\n",
              "      background-color: #434B5C;\n",
              "      box-shadow: 0px 1px 3px 1px rgba(0, 0, 0, 0.15);\n",
              "      filter: drop-shadow(0px 1px 2px rgba(0, 0, 0, 0.3));\n",
              "      fill: #FFFFFF;\n",
              "    }\n",
              "  </style>\n",
              "\n",
              "      <script>\n",
              "        const buttonEl =\n",
              "          document.querySelector('#df-00ba309f-1520-4c62-9f31-789ce4f96211 button.colab-df-convert');\n",
              "        buttonEl.style.display =\n",
              "          google.colab.kernel.accessAllowed ? 'block' : 'none';\n",
              "\n",
              "        async function convertToInteractive(key) {\n",
              "          const element = document.querySelector('#df-00ba309f-1520-4c62-9f31-789ce4f96211');\n",
              "          const dataTable =\n",
              "            await google.colab.kernel.invokeFunction('convertToInteractive',\n",
              "                                                     [key], {});\n",
              "          if (!dataTable) return;\n",
              "\n",
              "          const docLinkHtml = 'Like what you see? Visit the ' +\n",
              "            '<a target=\"_blank\" href=https://colab.research.google.com/notebooks/data_table.ipynb>data table notebook</a>'\n",
              "            + ' to learn more about interactive tables.';\n",
              "          element.innerHTML = '';\n",
              "          dataTable['output_type'] = 'display_data';\n",
              "          await google.colab.output.renderOutput(dataTable, element);\n",
              "          const docLink = document.createElement('div');\n",
              "          docLink.innerHTML = docLinkHtml;\n",
              "          element.appendChild(docLink);\n",
              "        }\n",
              "      </script>\n",
              "    </div>\n",
              "  </div>\n",
              "  "
            ]
          },
          "metadata": {},
          "execution_count": 101
        }
      ],
      "source": [
        "df.head()"
      ]
    },
    {
      "cell_type": "code",
      "execution_count": null,
      "id": "6e1f924d",
      "metadata": {
        "colab": {
          "base_uri": "https://localhost:8080/"
        },
        "id": "6e1f924d",
        "outputId": "7e0a73b9-0263-4add-f30b-001b7d542a86"
      },
      "outputs": [
        {
          "output_type": "execute_result",
          "data": {
            "text/plain": [
              "Unnamed: 0             int64\n",
              "key                   object\n",
              "fare_amount          float64\n",
              "pickup_datetime       object\n",
              "pickup_longitude     float64\n",
              "pickup_latitude      float64\n",
              "dropoff_longitude    float64\n",
              "dropoff_latitude     float64\n",
              "passenger_count        int64\n",
              "dtype: object"
            ]
          },
          "metadata": {},
          "execution_count": 102
        }
      ],
      "source": [
        "df.dtypes"
      ]
    },
    {
      "cell_type": "markdown",
      "source": [
        "# 1. Preprocess the dataset"
      ],
      "metadata": {
        "id": "tpYJm0QJXEGS"
      },
      "id": "tpYJm0QJXEGS"
    },
    {
      "cell_type": "code",
      "execution_count": null,
      "id": "29fe8cf0",
      "metadata": {
        "colab": {
          "base_uri": "https://localhost:8080/"
        },
        "id": "29fe8cf0",
        "outputId": "629b9b5b-e729-49a3-9035-6638342d1304"
      },
      "outputs": [
        {
          "output_type": "execute_result",
          "data": {
            "text/plain": [
              "Unnamed: 0           0\n",
              "key                  0\n",
              "fare_amount          0\n",
              "pickup_datetime      0\n",
              "pickup_longitude     0\n",
              "pickup_latitude      0\n",
              "dropoff_longitude    1\n",
              "dropoff_latitude     1\n",
              "passenger_count      0\n",
              "dtype: int64"
            ]
          },
          "metadata": {},
          "execution_count": 103
        }
      ],
      "source": [
        "df.isnull().sum()"
      ]
    },
    {
      "cell_type": "markdown",
      "source": [
        "Fill Missing Values"
      ],
      "metadata": {
        "id": "FzuM5abJXKmR"
      },
      "id": "FzuM5abJXKmR"
    },
    {
      "cell_type": "code",
      "execution_count": null,
      "id": "1f6fc553",
      "metadata": {
        "id": "1f6fc553"
      },
      "outputs": [],
      "source": [
        "df['dropoff_longitude'].fillna(value=df['dropoff_longitude'].mean(),inplace=True)"
      ]
    },
    {
      "cell_type": "code",
      "execution_count": null,
      "id": "1b9ea116",
      "metadata": {
        "id": "1b9ea116"
      },
      "outputs": [],
      "source": [
        "df['dropoff_latitude'].fillna(value=df['dropoff_latitude'].median(),inplace=True)"
      ]
    },
    {
      "cell_type": "markdown",
      "source": [
        "Drop Unwanted Columns"
      ],
      "metadata": {
        "id": "6Xg5S6zXXSBy"
      },
      "id": "6Xg5S6zXXSBy"
    },
    {
      "cell_type": "code",
      "source": [
        "df.drop(['Unnamed: 0', 'key'],axis=1,inplace=True)"
      ],
      "metadata": {
        "id": "yhpclO6vWoSz"
      },
      "id": "yhpclO6vWoSz",
      "execution_count": null,
      "outputs": []
    },
    {
      "cell_type": "code",
      "source": [
        "df.isnull().sum()"
      ],
      "metadata": {
        "colab": {
          "base_uri": "https://localhost:8080/"
        },
        "id": "xh6mxllFX0AL",
        "outputId": "bb00a69e-0ee4-44bb-e2d9-227237c1ba1c"
      },
      "id": "xh6mxllFX0AL",
      "execution_count": null,
      "outputs": [
        {
          "output_type": "execute_result",
          "data": {
            "text/plain": [
              "fare_amount          0\n",
              "pickup_datetime      0\n",
              "pickup_longitude     0\n",
              "pickup_latitude      0\n",
              "dropoff_longitude    0\n",
              "dropoff_latitude     0\n",
              "passenger_count      0\n",
              "dtype: int64"
            ]
          },
          "metadata": {},
          "execution_count": 107
        }
      ]
    },
    {
      "cell_type": "markdown",
      "source": [
        "Convert datatype of column 'pickup_datetime' from object to DateTime"
      ],
      "metadata": {
        "id": "vjjHLfr1X6UR"
      },
      "id": "vjjHLfr1X6UR"
    },
    {
      "cell_type": "code",
      "source": [
        "df['day']=pd.to_datetime(df['pickup_datetime']).dt.day\n",
        "df['month']=pd.to_datetime(df['pickup_datetime']).dt.month\n",
        "df['year']=pd.to_datetime(df['pickup_datetime']).dt.year\n",
        "df['hour']=pd.to_datetime(df['pickup_datetime']).dt.hour\n",
        "df['dayofweek']=pd.to_datetime(df['pickup_datetime']).dt.dayofweek"
      ],
      "metadata": {
        "id": "i0EJ-ctRh4Xu"
      },
      "id": "i0EJ-ctRh4Xu",
      "execution_count": null,
      "outputs": []
    },
    {
      "cell_type": "code",
      "source": [
        "df = df.drop(columns=['pickup_datetime'])"
      ],
      "metadata": {
        "id": "kvpAiEl5hgs2"
      },
      "id": "kvpAiEl5hgs2",
      "execution_count": null,
      "outputs": []
    },
    {
      "cell_type": "code",
      "source": [
        "df.dtypes"
      ],
      "metadata": {
        "colab": {
          "base_uri": "https://localhost:8080/"
        },
        "id": "kmVScIo0ZZP6",
        "outputId": "0d419e83-c9fd-4ef6-b31a-fdfbd51d4a14"
      },
      "id": "kmVScIo0ZZP6",
      "execution_count": null,
      "outputs": [
        {
          "output_type": "execute_result",
          "data": {
            "text/plain": [
              "fare_amount          float64\n",
              "pickup_longitude     float64\n",
              "pickup_latitude      float64\n",
              "dropoff_longitude    float64\n",
              "dropoff_latitude     float64\n",
              "passenger_count        int64\n",
              "day                    int64\n",
              "month                  int64\n",
              "year                   int64\n",
              "hour                   int64\n",
              "dayofweek              int64\n",
              "dtype: object"
            ]
          },
          "metadata": {},
          "execution_count": 110
        }
      ]
    },
    {
      "cell_type": "code",
      "execution_count": null,
      "id": "ddba7c91",
      "metadata": {
        "colab": {
          "base_uri": "https://localhost:8080/",
          "height": 206
        },
        "id": "ddba7c91",
        "outputId": "798a83e6-0bf3-4368-8d7d-c909728075ec"
      },
      "outputs": [
        {
          "output_type": "execute_result",
          "data": {
            "text/plain": [
              "   fare_amount  pickup_longitude  pickup_latitude  dropoff_longitude  \\\n",
              "0          7.5        -73.999817        40.738354         -73.999512   \n",
              "1          7.7        -73.994355        40.728225         -73.994710   \n",
              "2         12.9        -74.005043        40.740770         -73.962565   \n",
              "3          5.3        -73.976124        40.790844         -73.965316   \n",
              "4         16.0        -73.925023        40.744085         -73.973082   \n",
              "\n",
              "   dropoff_latitude  passenger_count  day  month  year  hour  dayofweek  \n",
              "0         40.723217                1    7      5  2015    19          3  \n",
              "1         40.750325                1   17      7  2009    20          4  \n",
              "2         40.772647                1   24      8  2009    21          0  \n",
              "3         40.803349                3   26      6  2009     8          4  \n",
              "4         40.761247                5   28      8  2014    17          3  "
            ],
            "text/html": [
              "\n",
              "  <div id=\"df-c4718124-f71c-4b65-93f7-98ad07ba1000\">\n",
              "    <div class=\"colab-df-container\">\n",
              "      <div>\n",
              "<style scoped>\n",
              "    .dataframe tbody tr th:only-of-type {\n",
              "        vertical-align: middle;\n",
              "    }\n",
              "\n",
              "    .dataframe tbody tr th {\n",
              "        vertical-align: top;\n",
              "    }\n",
              "\n",
              "    .dataframe thead th {\n",
              "        text-align: right;\n",
              "    }\n",
              "</style>\n",
              "<table border=\"1\" class=\"dataframe\">\n",
              "  <thead>\n",
              "    <tr style=\"text-align: right;\">\n",
              "      <th></th>\n",
              "      <th>fare_amount</th>\n",
              "      <th>pickup_longitude</th>\n",
              "      <th>pickup_latitude</th>\n",
              "      <th>dropoff_longitude</th>\n",
              "      <th>dropoff_latitude</th>\n",
              "      <th>passenger_count</th>\n",
              "      <th>day</th>\n",
              "      <th>month</th>\n",
              "      <th>year</th>\n",
              "      <th>hour</th>\n",
              "      <th>dayofweek</th>\n",
              "    </tr>\n",
              "  </thead>\n",
              "  <tbody>\n",
              "    <tr>\n",
              "      <th>0</th>\n",
              "      <td>7.5</td>\n",
              "      <td>-73.999817</td>\n",
              "      <td>40.738354</td>\n",
              "      <td>-73.999512</td>\n",
              "      <td>40.723217</td>\n",
              "      <td>1</td>\n",
              "      <td>7</td>\n",
              "      <td>5</td>\n",
              "      <td>2015</td>\n",
              "      <td>19</td>\n",
              "      <td>3</td>\n",
              "    </tr>\n",
              "    <tr>\n",
              "      <th>1</th>\n",
              "      <td>7.7</td>\n",
              "      <td>-73.994355</td>\n",
              "      <td>40.728225</td>\n",
              "      <td>-73.994710</td>\n",
              "      <td>40.750325</td>\n",
              "      <td>1</td>\n",
              "      <td>17</td>\n",
              "      <td>7</td>\n",
              "      <td>2009</td>\n",
              "      <td>20</td>\n",
              "      <td>4</td>\n",
              "    </tr>\n",
              "    <tr>\n",
              "      <th>2</th>\n",
              "      <td>12.9</td>\n",
              "      <td>-74.005043</td>\n",
              "      <td>40.740770</td>\n",
              "      <td>-73.962565</td>\n",
              "      <td>40.772647</td>\n",
              "      <td>1</td>\n",
              "      <td>24</td>\n",
              "      <td>8</td>\n",
              "      <td>2009</td>\n",
              "      <td>21</td>\n",
              "      <td>0</td>\n",
              "    </tr>\n",
              "    <tr>\n",
              "      <th>3</th>\n",
              "      <td>5.3</td>\n",
              "      <td>-73.976124</td>\n",
              "      <td>40.790844</td>\n",
              "      <td>-73.965316</td>\n",
              "      <td>40.803349</td>\n",
              "      <td>3</td>\n",
              "      <td>26</td>\n",
              "      <td>6</td>\n",
              "      <td>2009</td>\n",
              "      <td>8</td>\n",
              "      <td>4</td>\n",
              "    </tr>\n",
              "    <tr>\n",
              "      <th>4</th>\n",
              "      <td>16.0</td>\n",
              "      <td>-73.925023</td>\n",
              "      <td>40.744085</td>\n",
              "      <td>-73.973082</td>\n",
              "      <td>40.761247</td>\n",
              "      <td>5</td>\n",
              "      <td>28</td>\n",
              "      <td>8</td>\n",
              "      <td>2014</td>\n",
              "      <td>17</td>\n",
              "      <td>3</td>\n",
              "    </tr>\n",
              "  </tbody>\n",
              "</table>\n",
              "</div>\n",
              "      <button class=\"colab-df-convert\" onclick=\"convertToInteractive('df-c4718124-f71c-4b65-93f7-98ad07ba1000')\"\n",
              "              title=\"Convert this dataframe to an interactive table.\"\n",
              "              style=\"display:none;\">\n",
              "        \n",
              "  <svg xmlns=\"http://www.w3.org/2000/svg\" height=\"24px\"viewBox=\"0 0 24 24\"\n",
              "       width=\"24px\">\n",
              "    <path d=\"M0 0h24v24H0V0z\" fill=\"none\"/>\n",
              "    <path d=\"M18.56 5.44l.94 2.06.94-2.06 2.06-.94-2.06-.94-.94-2.06-.94 2.06-2.06.94zm-11 1L8.5 8.5l.94-2.06 2.06-.94-2.06-.94L8.5 2.5l-.94 2.06-2.06.94zm10 10l.94 2.06.94-2.06 2.06-.94-2.06-.94-.94-2.06-.94 2.06-2.06.94z\"/><path d=\"M17.41 7.96l-1.37-1.37c-.4-.4-.92-.59-1.43-.59-.52 0-1.04.2-1.43.59L10.3 9.45l-7.72 7.72c-.78.78-.78 2.05 0 2.83L4 21.41c.39.39.9.59 1.41.59.51 0 1.02-.2 1.41-.59l7.78-7.78 2.81-2.81c.8-.78.8-2.07 0-2.86zM5.41 20L4 18.59l7.72-7.72 1.47 1.35L5.41 20z\"/>\n",
              "  </svg>\n",
              "      </button>\n",
              "      \n",
              "  <style>\n",
              "    .colab-df-container {\n",
              "      display:flex;\n",
              "      flex-wrap:wrap;\n",
              "      gap: 12px;\n",
              "    }\n",
              "\n",
              "    .colab-df-convert {\n",
              "      background-color: #E8F0FE;\n",
              "      border: none;\n",
              "      border-radius: 50%;\n",
              "      cursor: pointer;\n",
              "      display: none;\n",
              "      fill: #1967D2;\n",
              "      height: 32px;\n",
              "      padding: 0 0 0 0;\n",
              "      width: 32px;\n",
              "    }\n",
              "\n",
              "    .colab-df-convert:hover {\n",
              "      background-color: #E2EBFA;\n",
              "      box-shadow: 0px 1px 2px rgba(60, 64, 67, 0.3), 0px 1px 3px 1px rgba(60, 64, 67, 0.15);\n",
              "      fill: #174EA6;\n",
              "    }\n",
              "\n",
              "    [theme=dark] .colab-df-convert {\n",
              "      background-color: #3B4455;\n",
              "      fill: #D2E3FC;\n",
              "    }\n",
              "\n",
              "    [theme=dark] .colab-df-convert:hover {\n",
              "      background-color: #434B5C;\n",
              "      box-shadow: 0px 1px 3px 1px rgba(0, 0, 0, 0.15);\n",
              "      filter: drop-shadow(0px 1px 2px rgba(0, 0, 0, 0.3));\n",
              "      fill: #FFFFFF;\n",
              "    }\n",
              "  </style>\n",
              "\n",
              "      <script>\n",
              "        const buttonEl =\n",
              "          document.querySelector('#df-c4718124-f71c-4b65-93f7-98ad07ba1000 button.colab-df-convert');\n",
              "        buttonEl.style.display =\n",
              "          google.colab.kernel.accessAllowed ? 'block' : 'none';\n",
              "\n",
              "        async function convertToInteractive(key) {\n",
              "          const element = document.querySelector('#df-c4718124-f71c-4b65-93f7-98ad07ba1000');\n",
              "          const dataTable =\n",
              "            await google.colab.kernel.invokeFunction('convertToInteractive',\n",
              "                                                     [key], {});\n",
              "          if (!dataTable) return;\n",
              "\n",
              "          const docLinkHtml = 'Like what you see? Visit the ' +\n",
              "            '<a target=\"_blank\" href=https://colab.research.google.com/notebooks/data_table.ipynb>data table notebook</a>'\n",
              "            + ' to learn more about interactive tables.';\n",
              "          element.innerHTML = '';\n",
              "          dataTable['output_type'] = 'display_data';\n",
              "          await google.colab.output.renderOutput(dataTable, element);\n",
              "          const docLink = document.createElement('div');\n",
              "          docLink.innerHTML = docLinkHtml;\n",
              "          element.appendChild(docLink);\n",
              "        }\n",
              "      </script>\n",
              "    </div>\n",
              "  </div>\n",
              "  "
            ]
          },
          "metadata": {},
          "execution_count": 111
        }
      ],
      "source": [
        "df.head()"
      ]
    },
    {
      "cell_type": "code",
      "source": [
        "df.shape"
      ],
      "metadata": {
        "colab": {
          "base_uri": "https://localhost:8080/"
        },
        "id": "I3vvpqxgieMd",
        "outputId": "9bde36d6-e3e6-4827-f1de-4419c7f7c35c"
      },
      "id": "I3vvpqxgieMd",
      "execution_count": null,
      "outputs": [
        {
          "output_type": "execute_result",
          "data": {
            "text/plain": [
              "(200000, 11)"
            ]
          },
          "metadata": {},
          "execution_count": 113
        }
      ]
    },
    {
      "cell_type": "markdown",
      "source": [
        "# 2. Identify outliers"
      ],
      "metadata": {
        "id": "ULBFKejsZvZV"
      },
      "id": "ULBFKejsZvZV"
    },
    {
      "cell_type": "code",
      "execution_count": null,
      "id": "21b75280",
      "metadata": {
        "colab": {
          "base_uri": "https://localhost:8080/",
          "height": 786
        },
        "id": "21b75280",
        "outputId": "3306c94b-96bf-43e6-ade4-73cf2e061dab"
      },
      "outputs": [
        {
          "output_type": "execute_result",
          "data": {
            "text/plain": [
              "fare_amount             AxesSubplot(0.125,0.787927;0.352273x0.0920732)\n",
              "pickup_longitude     AxesSubplot(0.547727,0.787927;0.352273x0.0920732)\n",
              "pickup_latitude         AxesSubplot(0.125,0.677439;0.352273x0.0920732)\n",
              "dropoff_longitude    AxesSubplot(0.547727,0.677439;0.352273x0.0920732)\n",
              "dropoff_latitude        AxesSubplot(0.125,0.566951;0.352273x0.0920732)\n",
              "passenger_count      AxesSubplot(0.547727,0.566951;0.352273x0.0920732)\n",
              "day                     AxesSubplot(0.125,0.456463;0.352273x0.0920732)\n",
              "month                AxesSubplot(0.547727,0.456463;0.352273x0.0920732)\n",
              "year                    AxesSubplot(0.125,0.345976;0.352273x0.0920732)\n",
              "hour                 AxesSubplot(0.547727,0.345976;0.352273x0.0920732)\n",
              "dayofweek               AxesSubplot(0.125,0.235488;0.352273x0.0920732)\n",
              "dtype: object"
            ]
          },
          "metadata": {},
          "execution_count": 119
        },
        {
          "output_type": "display_data",
          "data": {
            "text/plain": [
              "<Figure size 1800x1080 with 14 Axes>"
            ],
            "image/png": "[encoded data removed]"
          },
          "metadata": {
            "needs_background": "light"
          }
        }
      ],
      "source": [
        "# Boxplot\n",
        "df.plot(kind=\"box\",subplots=True,layout=(7,2),figsize=(25,15))\n"
      ]
    },
    {
      "cell_type": "code",
      "source": [
        "def remove_outlier(df , col):\n",
        "    Q1 = df[col].quantile(0.25)\n",
        "    Q3 = df[col].quantile(0.75)\n",
        "    IQR = Q3 - Q1\n",
        "    lower_whisker = Q1-1.5*IQR\n",
        "    upper_whisker = Q3+1.5*IQR\n",
        "    df[col] = np.clip(df[col] , lower_whisker , upper_whisker)\n",
        "    return df\n",
        "\n",
        "def treat_outliers_all(df , col_list):\n",
        "    for c in col_list:\n",
        "        df1 = remove_outlier(df , c)\n",
        "    return df"
      ],
      "metadata": {
        "id": "y7NylUOcaOd3"
      },
      "id": "y7NylUOcaOd3",
      "execution_count": null,
      "outputs": []
    },
    {
      "cell_type": "code",
      "source": [
        "df = treat_outliers_all(df , df.iloc[: , 0::])"
      ],
      "metadata": {
        "id": "_Ircjd-pahHE"
      },
      "id": "_Ircjd-pahHE",
      "execution_count": null,
      "outputs": []
    },
    {
      "cell_type": "code",
      "source": [
        "# Boxplot\n",
        "df.plot(kind=\"box\",subplots=True,layout=(7,2),figsize=(20,15))"
      ],
      "metadata": {
        "colab": {
          "base_uri": "https://localhost:8080/",
          "height": 920
        },
        "id": "NiFDnL3aadxO",
        "outputId": "49dcc043-ff52-4235-ab57-f484efc1b91d"
      },
      "id": "NiFDnL3aadxO",
      "execution_count": null,
      "outputs": [
        {
          "output_type": "execute_result",
          "data": {
            "text/plain": [
              "fare_amount             AxesSubplot(0.125,0.787927;0.352273x0.0920732)\n",
              "pickup_longitude     AxesSubplot(0.547727,0.787927;0.352273x0.0920732)\n",
              "pickup_latitude         AxesSubplot(0.125,0.677439;0.352273x0.0920732)\n",
              "dropoff_longitude    AxesSubplot(0.547727,0.677439;0.352273x0.0920732)\n",
              "dropoff_latitude        AxesSubplot(0.125,0.566951;0.352273x0.0920732)\n",
              "passenger_count      AxesSubplot(0.547727,0.566951;0.352273x0.0920732)\n",
              "day                     AxesSubplot(0.125,0.456463;0.352273x0.0920732)\n",
              "month                AxesSubplot(0.547727,0.456463;0.352273x0.0920732)\n",
              "year                    AxesSubplot(0.125,0.345976;0.352273x0.0920732)\n",
              "hour                 AxesSubplot(0.547727,0.345976;0.352273x0.0920732)\n",
              "dayofweek               AxesSubplot(0.125,0.235488;0.352273x0.0920732)\n",
              "dtype: object"
            ]
          },
          "metadata": {},
          "execution_count": 122
        },
        {
          "output_type": "display_data",
          "data": {
            "text/plain": [
              "<Figure size 1440x1080 with 14 Axes>"
            ],
            "image/png": "[encoded data removed]"
          },
          "metadata": {
            "needs_background": "light"
          }
        }
      ]
    },
    {
      "cell_type": "markdown",
      "source": [
        "# 3. Check the Correlation"
      ],
      "metadata": {
        "id": "k72RkGFwbE33"
      },
      "id": "k72RkGFwbE33"
    },
    {
      "cell_type": "markdown",
      "source": [
        "Correlation among multiple variables can be represented in the form of a matrix. This allows us to see which variables are correlated."
      ],
      "metadata": {
        "id": "530JDbeobeG5"
      },
      "id": "530JDbeobeG5"
    },
    {
      "cell_type": "code",
      "source": [
        "# use the corr() function to generate the correlation matrix of the numeric variables\n",
        "corrMatrix = df.corr()\n",
        "\n",
        "# print the correlation matrix\n",
        "corrMatrix"
      ],
      "metadata": {
        "colab": {
          "base_uri": "https://localhost:8080/",
          "height": 458
        },
        "id": "DE5GcdvObhto",
        "outputId": "53067e55-c1ac-4d91-adc4-f2cb28e66ec2"
      },
      "id": "DE5GcdvObhto",
      "execution_count": null,
      "outputs": [
        {
          "output_type": "execute_result",
          "data": {
            "text/plain": [
              "                   fare_amount  pickup_longitude  pickup_latitude  \\\n",
              "fare_amount           1.000000          0.154069        -0.110842   \n",
              "pickup_longitude      0.154069          1.000000         0.259497   \n",
              "pickup_latitude      -0.110842          0.259497         1.000000   \n",
              "dropoff_longitude     0.218704          0.425631         0.048898   \n",
              "dropoff_latitude     -0.125871          0.073311         0.515735   \n",
              "passenger_count       0.015778         -0.013213        -0.012889   \n",
              "day                   0.004534         -0.003204        -0.001553   \n",
              "month                 0.030817          0.001169         0.001562   \n",
              "year                  0.141277          0.010198        -0.014243   \n",
              "hour                 -0.023623          0.011579         0.029681   \n",
              "dayofweek             0.013652         -0.024652        -0.042310   \n",
              "\n",
              "                   dropoff_longitude  dropoff_latitude  passenger_count  \\\n",
              "fare_amount                 0.218704         -0.125871         0.015778   \n",
              "pickup_longitude            0.425631          0.073311        -0.013213   \n",
              "pickup_latitude             0.048898          0.515735        -0.012889   \n",
              "dropoff_longitude           1.000000          0.245665        -0.009325   \n",
              "dropoff_latitude            0.245665          1.000000        -0.006329   \n",
              "passenger_count            -0.009325         -0.006329         1.000000   \n",
              "day                        -0.004027         -0.003499         0.002712   \n",
              "month                       0.002394         -0.001190         0.010351   \n",
              "year                        0.011355         -0.009595        -0.009749   \n",
              "hour                       -0.046578          0.019764         0.020274   \n",
              "dayofweek                  -0.003349         -0.031932         0.048550   \n",
              "\n",
              "                        day     month      year      hour  dayofweek  \n",
              "fare_amount        0.004534  0.030817  0.141277 -0.023623   0.013652  \n",
              "pickup_longitude  -0.003204  0.001169  0.010198  0.011579  -0.024652  \n",
              "pickup_latitude   -0.001553  0.001562 -0.014243  0.029681  -0.042310  \n",
              "dropoff_longitude -0.004027  0.002394  0.011355 -0.046578  -0.003349  \n",
              "dropoff_latitude  -0.003499 -0.001190 -0.009595  0.019764  -0.031932  \n",
              "passenger_count    0.002712  0.010351 -0.009749  0.020274   0.048550  \n",
              "day                1.000000 -0.017360 -0.012170  0.004677   0.005617  \n",
              "month             -0.017360  1.000000 -0.115859 -0.003926  -0.008786  \n",
              "year              -0.012170 -0.115859  1.000000  0.002156   0.006113  \n",
              "hour               0.004677 -0.003926  0.002156  1.000000  -0.086947  \n",
              "dayofweek          0.005617 -0.008786  0.006113 -0.086947   1.000000  "
            ],
            "text/html": [
              "\n",
              "  <div id=\"df-4ee27116-b945-46ff-9592-367047aeb60a\">\n",
              "    <div class=\"colab-df-container\">\n",
              "      <div>\n",
              "<style scoped>\n",
              "    .dataframe tbody tr th:only-of-type {\n",
              "        vertical-align: middle;\n",
              "    }\n",
              "\n",
              "    .dataframe tbody tr th {\n",
              "        vertical-align: top;\n",
              "    }\n",
              "\n",
              "    .dataframe thead th {\n",
              "        text-align: right;\n",
              "    }\n",
              "</style>\n",
              "<table border=\"1\" class=\"dataframe\">\n",
              "  <thead>\n",
              "    <tr style=\"text-align: right;\">\n",
              "      <th></th>\n",
              "      <th>fare_amount</th>\n",
              "      <th>pickup_longitude</th>\n",
              "      <th>pickup_latitude</th>\n",
              "      <th>dropoff_longitude</th>\n",
              "      <th>dropoff_latitude</th>\n",
              "      <th>passenger_count</th>\n",
              "      <th>day</th>\n",
              "      <th>month</th>\n",
              "      <th>year</th>\n",
              "      <th>hour</th>\n",
              "      <th>dayofweek</th>\n",
              "    </tr>\n",
              "  </thead>\n",
              "  <tbody>\n",
              "    <tr>\n",
              "      <th>fare_amount</th>\n",
              "      <td>1.000000</td>\n",
              "      <td>0.154069</td>\n",
              "      <td>-0.110842</td>\n",
              "      <td>0.218704</td>\n",
              "      <td>-0.125871</td>\n",
              "      <td>0.015778</td>\n",
              "      <td>0.004534</td>\n",
              "      <td>0.030817</td>\n",
              "      <td>0.141277</td>\n",
              "      <td>-0.023623</td>\n",
              "      <td>0.013652</td>\n",
              "    </tr>\n",
              "    <tr>\n",
              "      <th>pickup_longitude</th>\n",
              "      <td>0.154069</td>\n",
              "      <td>1.000000</td>\n",
              "      <td>0.259497</td>\n",
              "      <td>0.425631</td>\n",
              "      <td>0.073311</td>\n",
              "      <td>-0.013213</td>\n",
              "      <td>-0.003204</td>\n",
              "      <td>0.001169</td>\n",
              "      <td>0.010198</td>\n",
              "      <td>0.011579</td>\n",
              "      <td>-0.024652</td>\n",
              "    </tr>\n",
              "    <tr>\n",
              "      <th>pickup_latitude</th>\n",
              "      <td>-0.110842</td>\n",
              "      <td>0.259497</td>\n",
              "      <td>1.000000</td>\n",
              "      <td>0.048898</td>\n",
              "      <td>0.515735</td>\n",
              "      <td>-0.012889</td>\n",
              "      <td>-0.001553</td>\n",
              "      <td>0.001562</td>\n",
              "      <td>-0.014243</td>\n",
              "      <td>0.029681</td>\n",
              "      <td>-0.042310</td>\n",
              "    </tr>\n",
              "    <tr>\n",
              "      <th>dropoff_longitude</th>\n",
              "      <td>0.218704</td>\n",
              "      <td>0.425631</td>\n",
              "      <td>0.048898</td>\n",
              "      <td>1.000000</td>\n",
              "      <td>0.245665</td>\n",
              "      <td>-0.009325</td>\n",
              "      <td>-0.004027</td>\n",
              "      <td>0.002394</td>\n",
              "      <td>0.011355</td>\n",
              "      <td>-0.046578</td>\n",
              "      <td>-0.003349</td>\n",
              "    </tr>\n",
              "    <tr>\n",
              "      <th>dropoff_latitude</th>\n",
              "      <td>-0.125871</td>\n",
              "      <td>0.073311</td>\n",
              "      <td>0.515735</td>\n",
              "      <td>0.245665</td>\n",
              "      <td>1.000000</td>\n",
              "      <td>-0.006329</td>\n",
              "      <td>-0.003499</td>\n",
              "      <td>-0.001190</td>\n",
              "      <td>-0.009595</td>\n",
              "      <td>0.019764</td>\n",
              "      <td>-0.031932</td>\n",
              "    </tr>\n",
              "    <tr>\n",
              "      <th>passenger_count</th>\n",
              "      <td>0.015778</td>\n",
              "      <td>-0.013213</td>\n",
              "      <td>-0.012889</td>\n",
              "      <td>-0.009325</td>\n",
              "      <td>-0.006329</td>\n",
              "      <td>1.000000</td>\n",
              "      <td>0.002712</td>\n",
              "      <td>0.010351</td>\n",
              "      <td>-0.009749</td>\n",
              "      <td>0.020274</td>\n",
              "      <td>0.048550</td>\n",
              "    </tr>\n",
              "    <tr>\n",
              "      <th>day</th>\n",
              "      <td>0.004534</td>\n",
              "      <td>-0.003204</td>\n",
              "      <td>-0.001553</td>\n",
              "      <td>-0.004027</td>\n",
              "      <td>-0.003499</td>\n",
              "      <td>0.002712</td>\n",
              "      <td>1.000000</td>\n",
              "      <td>-0.017360</td>\n",
              "      <td>-0.012170</td>\n",
              "      <td>0.004677</td>\n",
              "      <td>0.005617</td>\n",
              "    </tr>\n",
              "    <tr>\n",
              "      <th>month</th>\n",
              "      <td>0.030817</td>\n",
              "      <td>0.001169</td>\n",
              "      <td>0.001562</td>\n",
              "      <td>0.002394</td>\n",
              "      <td>-0.001190</td>\n",
              "      <td>0.010351</td>\n",
              "      <td>-0.017360</td>\n",
              "      <td>1.000000</td>\n",
              "      <td>-0.115859</td>\n",
              "      <td>-0.003926</td>\n",
              "      <td>-0.008786</td>\n",
              "    </tr>\n",
              "    <tr>\n",
              "      <th>year</th>\n",
              "      <td>0.141277</td>\n",
              "      <td>0.010198</td>\n",
              "      <td>-0.014243</td>\n",
              "      <td>0.011355</td>\n",
              "      <td>-0.009595</td>\n",
              "      <td>-0.009749</td>\n",
              "      <td>-0.012170</td>\n",
              "      <td>-0.115859</td>\n",
              "      <td>1.000000</td>\n",
              "      <td>0.002156</td>\n",
              "      <td>0.006113</td>\n",
              "    </tr>\n",
              "    <tr>\n",
              "      <th>hour</th>\n",
              "      <td>-0.023623</td>\n",
              "      <td>0.011579</td>\n",
              "      <td>0.029681</td>\n",
              "      <td>-0.046578</td>\n",
              "      <td>0.019764</td>\n",
              "      <td>0.020274</td>\n",
              "      <td>0.004677</td>\n",
              "      <td>-0.003926</td>\n",
              "      <td>0.002156</td>\n",
              "      <td>1.000000</td>\n",
              "      <td>-0.086947</td>\n",
              "    </tr>\n",
              "    <tr>\n",
              "      <th>dayofweek</th>\n",
              "      <td>0.013652</td>\n",
              "      <td>-0.024652</td>\n",
              "      <td>-0.042310</td>\n",
              "      <td>-0.003349</td>\n",
              "      <td>-0.031932</td>\n",
              "      <td>0.048550</td>\n",
              "      <td>0.005617</td>\n",
              "      <td>-0.008786</td>\n",
              "      <td>0.006113</td>\n",
              "      <td>-0.086947</td>\n",
              "      <td>1.000000</td>\n",
              "    </tr>\n",
              "  </tbody>\n",
              "</table>\n",
              "</div>\n",
              "      <button class=\"colab-df-convert\" onclick=\"convertToInteractive('df-4ee27116-b945-46ff-9592-367047aeb60a')\"\n",
              "              title=\"Convert this dataframe to an interactive table.\"\n",
              "              style=\"display:none;\">\n",
              "        \n",
              "  <svg xmlns=\"http://www.w3.org/2000/svg\" height=\"24px\"viewBox=\"0 0 24 24\"\n",
              "       width=\"24px\">\n",
              "    <path d=\"M0 0h24v24H0V0z\" fill=\"none\"/>\n",
              "    <path d=\"M18.56 5.44l.94 2.06.94-2.06 2.06-.94-2.06-.94-.94-2.06-.94 2.06-2.06.94zm-11 1L8.5 8.5l.94-2.06 2.06-.94-2.06-.94L8.5 2.5l-.94 2.06-2.06.94zm10 10l.94 2.06.94-2.06 2.06-.94-2.06-.94-.94-2.06-.94 2.06-2.06.94z\"/><path d=\"M17.41 7.96l-1.37-1.37c-.4-.4-.92-.59-1.43-.59-.52 0-1.04.2-1.43.59L10.3 9.45l-7.72 7.72c-.78.78-.78 2.05 0 2.83L4 21.41c.39.39.9.59 1.41.59.51 0 1.02-.2 1.41-.59l7.78-7.78 2.81-2.81c.8-.78.8-2.07 0-2.86zM5.41 20L4 18.59l7.72-7.72 1.47 1.35L5.41 20z\"/>\n",
              "  </svg>\n",
              "      </button>\n",
              "      \n",
              "  <style>\n",
              "    .colab-df-container {\n",
              "      display:flex;\n",
              "      flex-wrap:wrap;\n",
              "      gap: 12px;\n",
              "    }\n",
              "\n",
              "    .colab-df-convert {\n",
              "      background-color: #E8F0FE;\n",
              "      border: none;\n",
              "      border-radius: 50%;\n",
              "      cursor: pointer;\n",
              "      display: none;\n",
              "      fill: #1967D2;\n",
              "      height: 32px;\n",
              "      padding: 0 0 0 0;\n",
              "      width: 32px;\n",
              "    }\n",
              "\n",
              "    .colab-df-convert:hover {\n",
              "      background-color: #E2EBFA;\n",
              "      box-shadow: 0px 1px 2px rgba(60, 64, 67, 0.3), 0px 1px 3px 1px rgba(60, 64, 67, 0.15);\n",
              "      fill: #174EA6;\n",
              "    }\n",
              "\n",
              "    [theme=dark] .colab-df-convert {\n",
              "      background-color: #3B4455;\n",
              "      fill: #D2E3FC;\n",
              "    }\n",
              "\n",
              "    [theme=dark] .colab-df-convert:hover {\n",
              "      background-color: #434B5C;\n",
              "      box-shadow: 0px 1px 3px 1px rgba(0, 0, 0, 0.15);\n",
              "      filter: drop-shadow(0px 1px 2px rgba(0, 0, 0, 0.3));\n",
              "      fill: #FFFFFF;\n",
              "    }\n",
              "  </style>\n",
              "\n",
              "      <script>\n",
              "        const buttonEl =\n",
              "          document.querySelector('#df-4ee27116-b945-46ff-9592-367047aeb60a button.colab-df-convert');\n",
              "        buttonEl.style.display =\n",
              "          google.colab.kernel.accessAllowed ? 'block' : 'none';\n",
              "\n",
              "        async function convertToInteractive(key) {\n",
              "          const element = document.querySelector('#df-4ee27116-b945-46ff-9592-367047aeb60a');\n",
              "          const dataTable =\n",
              "            await google.colab.kernel.invokeFunction('convertToInteractive',\n",
              "                                                     [key], {});\n",
              "          if (!dataTable) return;\n",
              "\n",
              "          const docLinkHtml = 'Like what you see? Visit the ' +\n",
              "            '<a target=\"_blank\" href=https://colab.research.google.com/notebooks/data_table.ipynb>data table notebook</a>'\n",
              "            + ' to learn more about interactive tables.';\n",
              "          element.innerHTML = '';\n",
              "          dataTable['output_type'] = 'display_data';\n",
              "          await google.colab.output.renderOutput(dataTable, element);\n",
              "          const docLink = document.createElement('div');\n",
              "          docLink.innerHTML = docLinkHtml;\n",
              "          element.appendChild(docLink);\n",
              "        }\n",
              "      </script>\n",
              "    </div>\n",
              "  </div>\n",
              "  "
            ]
          },
          "metadata": {},
          "execution_count": 123
        }
      ]
    },
    {
      "cell_type": "code",
      "source": [
        "# Plot the heatmap for the correlation matrix\n",
        "plt.figure(figsize = (20,10))\n",
        "\n",
        "# set the size of x and y axes labels using 'fontsize'\n",
        "plt.xticks(fontsize = 12)\n",
        "plt.yticks(fontsize = 15)\n",
        "\n",
        "sns.heatmap(corrMatrix, annot=True)\n",
        "\n",
        "# display the plot\n",
        "plt.show()"
      ],
      "metadata": {
        "colab": {
          "base_uri": "https://localhost:8080/",
          "height": 668
        },
        "id": "bmotpkGdcEG5",
        "outputId": "24fca0ef-cf6c-4497-d557-e73ab53e692d"
      },
      "id": "bmotpkGdcEG5",
      "execution_count": null,
      "outputs": [
        {
          "output_type": "display_data",
          "data": {
            "text/plain": [
              "<Figure size 1440x720 with 2 Axes>"
            ],
            "image/png": "[encoded data removed]"
          },
          "metadata": {
            "needs_background": "light"
          }
        }
      ]
    },
    {
      "cell_type": "markdown",
      "source": [
        "# 4. Implement linear regression and random forest regression models."
      ],
      "metadata": {
        "id": "SYV691bMdJM6"
      },
      "id": "SYV691bMdJM6"
    },
    {
      "cell_type": "markdown",
      "source": [
        "1. Split the data into features and target dataframes"
      ],
      "metadata": {
        "id": "tunJwitLdb0s"
      },
      "id": "tunJwitLdb0s"
    },
    {
      "cell_type": "code",
      "source": [
        "# select only the target variable 'amount' and store it in dataframe 'y'\n",
        "y = pd.DataFrame(df['fare_amount'])"
      ],
      "metadata": {
        "id": "ZRESuZ3hdMTH"
      },
      "id": "ZRESuZ3hdMTH",
      "execution_count": null,
      "outputs": []
    },
    {
      "cell_type": "code",
      "source": [
        "# use 'drop()' to remove the variable 'amount' from df\n",
        "# 'axis = 1' drops the corresponding column(s)\n",
        "x = df.drop('fare_amount',axis = 1)"
      ],
      "metadata": {
        "id": "nDHwiSi0drJO"
      },
      "id": "nDHwiSi0drJO",
      "execution_count": null,
      "outputs": []
    },
    {
      "cell_type": "code",
      "source": [
        "x.head()"
      ],
      "metadata": {
        "colab": {
          "base_uri": "https://localhost:8080/",
          "height": 206
        },
        "id": "nmFg-wpXdvh9",
        "outputId": "9a3960d8-f13b-4cc8-e696-e882040fccac"
      },
      "id": "nmFg-wpXdvh9",
      "execution_count": null,
      "outputs": [
        {
          "output_type": "execute_result",
          "data": {
            "text/plain": [
              "   pickup_longitude  pickup_latitude  dropoff_longitude  dropoff_latitude  \\\n",
              "0        -73.999817        40.738354         -73.999512         40.723217   \n",
              "1        -73.994355        40.728225         -73.994710         40.750325   \n",
              "2        -74.005043        40.740770         -73.962565         40.772647   \n",
              "3        -73.976124        40.790844         -73.965316         40.803349   \n",
              "4        -73.929786        40.744085         -73.973082         40.761247   \n",
              "\n",
              "   passenger_count  day  month  year  hour  dayofweek  \n",
              "0              1.0    7      5  2015    19          3  \n",
              "1              1.0   17      7  2009    20          4  \n",
              "2              1.0   24      8  2009    21          0  \n",
              "3              3.0   26      6  2009     8          4  \n",
              "4              3.5   28      8  2014    17          3  "
            ],
            "text/html": [
              "\n",
              "  <div id=\"df-5afd104a-9b72-4c0d-ac7e-af3682a4fa75\">\n",
              "    <div class=\"colab-df-container\">\n",
              "      <div>\n",
              "<style scoped>\n",
              "    .dataframe tbody tr th:only-of-type {\n",
              "        vertical-align: middle;\n",
              "    }\n",
              "\n",
              "    .dataframe tbody tr th {\n",
              "        vertical-align: top;\n",
              "    }\n",
              "\n",
              "    .dataframe thead th {\n",
              "        text-align: right;\n",
              "    }\n",
              "</style>\n",
              "<table border=\"1\" class=\"dataframe\">\n",
              "  <thead>\n",
              "    <tr style=\"text-align: right;\">\n",
              "      <th></th>\n",
              "      <th>pickup_longitude</th>\n",
              "      <th>pickup_latitude</th>\n",
              "      <th>dropoff_longitude</th>\n",
              "      <th>dropoff_latitude</th>\n",
              "      <th>passenger_count</th>\n",
              "      <th>day</th>\n",
              "      <th>month</th>\n",
              "      <th>year</th>\n",
              "      <th>hour</th>\n",
              "      <th>dayofweek</th>\n",
              "    </tr>\n",
              "  </thead>\n",
              "  <tbody>\n",
              "    <tr>\n",
              "      <th>0</th>\n",
              "      <td>-73.999817</td>\n",
              "      <td>40.738354</td>\n",
              "      <td>-73.999512</td>\n",
              "      <td>40.723217</td>\n",
              "      <td>1.0</td>\n",
              "      <td>7</td>\n",
              "      <td>5</td>\n",
              "      <td>2015</td>\n",
              "      <td>19</td>\n",
              "      <td>3</td>\n",
              "    </tr>\n",
              "    <tr>\n",
              "      <th>1</th>\n",
              "      <td>-73.994355</td>\n",
              "      <td>40.728225</td>\n",
              "      <td>-73.994710</td>\n",
              "      <td>40.750325</td>\n",
              "      <td>1.0</td>\n",
              "      <td>17</td>\n",
              "      <td>7</td>\n",
              "      <td>2009</td>\n",
              "      <td>20</td>\n",
              "      <td>4</td>\n",
              "    </tr>\n",
              "    <tr>\n",
              "      <th>2</th>\n",
              "      <td>-74.005043</td>\n",
              "      <td>40.740770</td>\n",
              "      <td>-73.962565</td>\n",
              "      <td>40.772647</td>\n",
              "      <td>1.0</td>\n",
              "      <td>24</td>\n",
              "      <td>8</td>\n",
              "      <td>2009</td>\n",
              "      <td>21</td>\n",
              "      <td>0</td>\n",
              "    </tr>\n",
              "    <tr>\n",
              "      <th>3</th>\n",
              "      <td>-73.976124</td>\n",
              "      <td>40.790844</td>\n",
              "      <td>-73.965316</td>\n",
              "      <td>40.803349</td>\n",
              "      <td>3.0</td>\n",
              "      <td>26</td>\n",
              "      <td>6</td>\n",
              "      <td>2009</td>\n",
              "      <td>8</td>\n",
              "      <td>4</td>\n",
              "    </tr>\n",
              "    <tr>\n",
              "      <th>4</th>\n",
              "      <td>-73.929786</td>\n",
              "      <td>40.744085</td>\n",
              "      <td>-73.973082</td>\n",
              "      <td>40.761247</td>\n",
              "      <td>3.5</td>\n",
              "      <td>28</td>\n",
              "      <td>8</td>\n",
              "      <td>2014</td>\n",
              "      <td>17</td>\n",
              "      <td>3</td>\n",
              "    </tr>\n",
              "  </tbody>\n",
              "</table>\n",
              "</div>\n",
              "      <button class=\"colab-df-convert\" onclick=\"convertToInteractive('df-5afd104a-9b72-4c0d-ac7e-af3682a4fa75')\"\n",
              "              title=\"Convert this dataframe to an interactive table.\"\n",
              "              style=\"display:none;\">\n",
              "        \n",
              "  <svg xmlns=\"http://www.w3.org/2000/svg\" height=\"24px\"viewBox=\"0 0 24 24\"\n",
              "       width=\"24px\">\n",
              "    <path d=\"M0 0h24v24H0V0z\" fill=\"none\"/>\n",
              "    <path d=\"M18.56 5.44l.94 2.06.94-2.06 2.06-.94-2.06-.94-.94-2.06-.94 2.06-2.06.94zm-11 1L8.5 8.5l.94-2.06 2.06-.94-2.06-.94L8.5 2.5l-.94 2.06-2.06.94zm10 10l.94 2.06.94-2.06 2.06-.94-2.06-.94-.94-2.06-.94 2.06-2.06.94z\"/><path d=\"M17.41 7.96l-1.37-1.37c-.4-.4-.92-.59-1.43-.59-.52 0-1.04.2-1.43.59L10.3 9.45l-7.72 7.72c-.78.78-.78 2.05 0 2.83L4 21.41c.39.39.9.59 1.41.59.51 0 1.02-.2 1.41-.59l7.78-7.78 2.81-2.81c.8-.78.8-2.07 0-2.86zM5.41 20L4 18.59l7.72-7.72 1.47 1.35L5.41 20z\"/>\n",
              "  </svg>\n",
              "      </button>\n",
              "      \n",
              "  <style>\n",
              "    .colab-df-container {\n",
              "      display:flex;\n",
              "      flex-wrap:wrap;\n",
              "      gap: 12px;\n",
              "    }\n",
              "\n",
              "    .colab-df-convert {\n",
              "      background-color: #E8F0FE;\n",
              "      border: none;\n",
              "      border-radius: 50%;\n",
              "      cursor: pointer;\n",
              "      display: none;\n",
              "      fill: #1967D2;\n",
              "      height: 32px;\n",
              "      padding: 0 0 0 0;\n",
              "      width: 32px;\n",
              "    }\n",
              "\n",
              "    .colab-df-convert:hover {\n",
              "      background-color: #E2EBFA;\n",
              "      box-shadow: 0px 1px 2px rgba(60, 64, 67, 0.3), 0px 1px 3px 1px rgba(60, 64, 67, 0.15);\n",
              "      fill: #174EA6;\n",
              "    }\n",
              "\n",
              "    [theme=dark] .colab-df-convert {\n",
              "      background-color: #3B4455;\n",
              "      fill: #D2E3FC;\n",
              "    }\n",
              "\n",
              "    [theme=dark] .colab-df-convert:hover {\n",
              "      background-color: #434B5C;\n",
              "      box-shadow: 0px 1px 3px 1px rgba(0, 0, 0, 0.15);\n",
              "      filter: drop-shadow(0px 1px 2px rgba(0, 0, 0, 0.3));\n",
              "      fill: #FFFFFF;\n",
              "    }\n",
              "  </style>\n",
              "\n",
              "      <script>\n",
              "        const buttonEl =\n",
              "          document.querySelector('#df-5afd104a-9b72-4c0d-ac7e-af3682a4fa75 button.colab-df-convert');\n",
              "        buttonEl.style.display =\n",
              "          google.colab.kernel.accessAllowed ? 'block' : 'none';\n",
              "\n",
              "        async function convertToInteractive(key) {\n",
              "          const element = document.querySelector('#df-5afd104a-9b72-4c0d-ac7e-af3682a4fa75');\n",
              "          const dataTable =\n",
              "            await google.colab.kernel.invokeFunction('convertToInteractive',\n",
              "                                                     [key], {});\n",
              "          if (!dataTable) return;\n",
              "\n",
              "          const docLinkHtml = 'Like what you see? Visit the ' +\n",
              "            '<a target=\"_blank\" href=https://colab.research.google.com/notebooks/data_table.ipynb>data table notebook</a>'\n",
              "            + ' to learn more about interactive tables.';\n",
              "          element.innerHTML = '';\n",
              "          dataTable['output_type'] = 'display_data';\n",
              "          await google.colab.output.renderOutput(dataTable, element);\n",
              "          const docLink = document.createElement('div');\n",
              "          docLink.innerHTML = docLinkHtml;\n",
              "          element.appendChild(docLink);\n",
              "        }\n",
              "      </script>\n",
              "    </div>\n",
              "  </div>\n",
              "  "
            ]
          },
          "metadata": {},
          "execution_count": 127
        }
      ]
    },
    {
      "cell_type": "markdown",
      "source": [
        "2. Split the data into training and test sets."
      ],
      "metadata": {
        "id": "D4AGEhjvdz08"
      },
      "id": "D4AGEhjvdz08"
    },
    {
      "cell_type": "code",
      "source": [
        "from sklearn.model_selection import train_test_split\n",
        "x_train, x_test, y_train, y_test = train_test_split(x, y, test_size = 0.2, random_state = 1)\n",
        "\n",
        "# print dimension of predictors train set\n",
        "print(\"The shape of X_train is:\",x_train.shape)\n",
        "\n",
        "# print dimension of predictors test set\n",
        "print(\"The shape of X_test is:\",x_test.shape)\n",
        "\n",
        "# print dimension of target train set\n",
        "print(\"The shape of y_train is:\",y_train.shape)\n",
        "\n",
        "# print dimension of target test set\n",
        "print(\"The shape of y_test is:\",y_test.shape)"
      ],
      "metadata": {
        "colab": {
          "base_uri": "https://localhost:8080/"
        },
        "id": "h041nyNZd33G",
        "outputId": "6e9edb44-f9de-4c96-a7b5-41b6829073ec"
      },
      "id": "h041nyNZd33G",
      "execution_count": null,
      "outputs": [
        {
          "output_type": "stream",
          "name": "stdout",
          "text": [
            "The shape of X_train is: (160000, 10)\n",
            "The shape of X_test is: (40000, 10)\n",
            "The shape of y_train is: (160000, 1)\n",
            "The shape of y_test is: (40000, 1)\n"
          ]
        }
      ]
    },
    {
      "cell_type": "markdown",
      "source": [
        "# Linear Regression Model"
      ],
      "metadata": {
        "id": "EZ0IOypMeW0j"
      },
      "id": "EZ0IOypMeW0j"
    },
    {
      "cell_type": "code",
      "source": [
        "#Training the simple linear regression model on the training set\n",
        "from sklearn.linear_model import LinearRegression\n",
        "lregr = LinearRegression()\n",
        "lregr.fit(x_train,y_train)"
      ],
      "metadata": {
        "colab": {
          "base_uri": "https://localhost:8080/"
        },
        "id": "D1R1yGWueb1j",
        "outputId": "ae01fbbb-bb3b-443e-aa20-28b1a7f9143b"
      },
      "id": "D1R1yGWueb1j",
      "execution_count": null,
      "outputs": [
        {
          "output_type": "execute_result",
          "data": {
            "text/plain": [
              "LinearRegression()"
            ]
          },
          "metadata": {},
          "execution_count": 129
        }
      ]
    },
    {
      "cell_type": "code",
      "source": [
        "#Actual vs Predicted Values\n",
        "y_pred = lregr.predict(x_test)\n",
        "df = {'Actual': y_test, 'Predicted': y_pred}\n",
        "df"
      ],
      "metadata": {
        "colab": {
          "base_uri": "https://localhost:8080/"
        },
        "id": "pTTgGfk2f2tp",
        "outputId": "8d0efd8f-ef75-4c4b-de14-c349587304b2"
      },
      "id": "pTTgGfk2f2tp",
      "execution_count": null,
      "outputs": [
        {
          "output_type": "execute_result",
          "data": {
            "text/plain": [
              "{'Actual':         fare_amount\n",
              " 49673           4.0\n",
              " 171551          6.1\n",
              " 5506            8.5\n",
              " 38370           4.9\n",
              " 36930           6.5\n",
              " ...             ...\n",
              " 63840          10.7\n",
              " 128107          2.5\n",
              " 108940         10.0\n",
              " 199933         11.3\n",
              " 22902          12.5\n",
              " \n",
              " [40000 rows x 1 columns], 'Predicted': array([[10.76419831],\n",
              "        [ 8.17555332],\n",
              "        [10.6997011 ],\n",
              "        ...,\n",
              "        [10.68164662],\n",
              "        [ 9.70203427],\n",
              "        [ 9.28752553]])}"
            ]
          },
          "metadata": {},
          "execution_count": 130
        }
      ]
    },
    {
      "cell_type": "code",
      "source": [
        "# Calculate RMSE, MAE, MSE\n",
        "from sklearn import metrics\n",
        "r_squared_LR = lregr.score(x_train, y_train)\n",
        "lr_MAE= metrics.mean_absolute_error(y_test, y_pred)\n",
        "lr_MSE= metrics.mean_squared_error(y_test, y_pred)\n",
        "lr_RMSE= np.sqrt(metrics.mean_squared_error(y_test, y_pred))"
      ],
      "metadata": {
        "id": "gEC1ia-mjY6M"
      },
      "id": "gEC1ia-mjY6M",
      "execution_count": null,
      "outputs": []
    },
    {
      "cell_type": "markdown",
      "source": [
        "# Random Forest Regression"
      ],
      "metadata": {
        "id": "UU0ujb9b0Y60"
      },
      "id": "UU0ujb9b0Y60"
    },
    {
      "cell_type": "code",
      "source": [
        "from sklearn.ensemble import RandomForestRegressor\n",
        "#intantiate the regressor\n",
        "rf_reg = RandomForestRegressor()\n",
        "\n",
        "# fit the regressor with training dataset\n",
        "rf_reg.fit(x_train, y_train)\n"
      ],
      "metadata": {
        "id": "exoxU14D0h-X",
        "colab": {
          "base_uri": "https://localhost:8080/"
        },
        "outputId": "c872e254-ddc0-4a12-9c36-2c07fb45cfaf"
      },
      "id": "exoxU14D0h-X",
      "execution_count": null,
      "outputs": [
        {
          "output_type": "stream",
          "name": "stderr",
          "text": [
            "/usr/local/lib/python3.7/dist-packages/ipykernel_launcher.py:6: DataConversionWarning: A column-vector y was passed when a 1d array was expected. Please change the shape of y to (n_samples,), for example using ravel().\n",
            "  \n"
          ]
        },
        {
          "output_type": "execute_result",
          "data": {
            "text/plain": [
              "RandomForestRegressor()"
            ]
          },
          "metadata": {},
          "execution_count": 132
        }
      ]
    },
    {
      "cell_type": "code",
      "source": [
        "# predict the values on test dataset using predict()\n",
        "y_pred_RF = rf_reg.predict(x_test)\n",
        "y_pred_RF"
      ],
      "metadata": {
        "colab": {
          "base_uri": "https://localhost:8080/"
        },
        "id": "LqTdBAC09dX7",
        "outputId": "c08b2544-8704-4913-cb01-1ef5c1e51a85"
      },
      "id": "LqTdBAC09dX7",
      "execution_count": null,
      "outputs": [
        {
          "output_type": "execute_result",
          "data": {
            "text/plain": [
              "array([ 6.105 ,  5.6565,  9.465 , ..., 10.31  , 12.057 , 12.439 ])"
            ]
          },
          "metadata": {},
          "execution_count": 134
        }
      ]
    },
    {
      "cell_type": "code",
      "source": [
        "# Calculate RMSE, MAE, MSE\n",
        "from sklearn import metrics\n",
        "r_squared_RF = rf_reg.score(x_test,y_test)\n",
        "r_squared_RF\n",
        "rf_MAE= metrics.mean_absolute_error(y_test, y_pred_RF)\n",
        "rf_MSE= metrics.mean_squared_error(y_test, y_pred_RF)\n",
        "rf_RMSE= np.sqrt(metrics.mean_squared_error(y_test, y_pred_RF))"
      ],
      "metadata": {
        "id": "Fg62w0xj9nZx"
      },
      "id": "Fg62w0xj9nZx",
      "execution_count": null,
      "outputs": []
    },
    {
      "cell_type": "markdown",
      "source": [
        "# 5. Evaluate the models and compare their respective scores like R2, RMSE, etc."
      ],
      "metadata": {
        "id": "M63TrlmJEtD7"
      },
      "id": "M63TrlmJEtD7"
    },
    {
      "cell_type": "code",
      "source": [
        "# create the result table for all accuracy scores\n",
        "# accuracy measures considered for model comparision are RMSE, R-squared value\n",
        "\n",
        "# create a list of column names\n",
        "cols = ['Model', 'MAE', 'MSE', 'RMSE', 'R-Squared']\n",
        "\n",
        "# create a empty dataframe of the colums\n",
        "result_tabulation = pd.DataFrame(columns = cols)\n",
        "\n",
        "# compile the required information\n",
        "reg_full_metrics = pd.Series({'Model': \"Linear Regression \",\n",
        "                     'MAE': lr_MAE,\n",
        "                     'MSE': lr_MSE,\n",
        "                     'RMSE':lr_RMSE,\n",
        "                     'R-Squared': r_squared_LR})\n",
        "\n",
        "# ignore_index=True: does not use the index labels\n",
        "# python can only append a Series if ignore_index=True or if the Series has a name\n",
        "result_tabulation = result_tabulation.append(reg_full_metrics, ignore_index = True)\n",
        "\n",
        "# compile the required information\n",
        "reg_full_metrics = pd.Series({'Model': \"Random Forest Regression \",\n",
        "                     'MAE': rf_MAE,\n",
        "                     'MSE': rf_MSE,\n",
        "                     'RMSE':rf_RMSE,\n",
        "                     'R-Squared': r_squared_RF})\n",
        "\n",
        "result_tabulation = result_tabulation.append(reg_full_metrics, ignore_index = True)\n",
        "\n",
        "# print the result table\n",
        "result_tabulation"
      ],
      "metadata": {
        "colab": {
          "base_uri": "https://localhost:8080/",
          "height": 112
        },
        "id": "mrfvCFSaCckX",
        "outputId": "464d6c28-1ef5-4410-c0e2-4c79ccdab763"
      },
      "id": "mrfvCFSaCckX",
      "execution_count": null,
      "outputs": [
        {
          "output_type": "execute_result",
          "data": {
            "text/plain": [
              "                       Model       MAE        MSE      RMSE  R-Squared\n",
              "0         Linear Regression   4.067143  26.375806  5.135738   0.108989\n",
              "1  Random Forest Regression   1.549128   6.008704  2.451266   0.797753"
            ],
            "text/html": [
              "\n",
              "  <div id=\"df-63706075-5988-4f69-9163-a695aefd84ff\">\n",
              "    <div class=\"colab-df-container\">\n",
              "      <div>\n",
              "<style scoped>\n",
              "    .dataframe tbody tr th:only-of-type {\n",
              "        vertical-align: middle;\n",
              "    }\n",
              "\n",
              "    .dataframe tbody tr th {\n",
              "        vertical-align: top;\n",
              "    }\n",
              "\n",
              "    .dataframe thead th {\n",
              "        text-align: right;\n",
              "    }\n",
              "</style>\n",
              "<table border=\"1\" class=\"dataframe\">\n",
              "  <thead>\n",
              "    <tr style=\"text-align: right;\">\n",
              "      <th></th>\n",
              "      <th>Model</th>\n",
              "      <th>MAE</th>\n",
              "      <th>MSE</th>\n",
              "      <th>RMSE</th>\n",
              "      <th>R-Squared</th>\n",
              "    </tr>\n",
              "  </thead>\n",
              "  <tbody>\n",
              "    <tr>\n",
              "      <th>0</th>\n",
              "      <td>Linear Regression</td>\n",
              "      <td>4.067143</td>\n",
              "      <td>26.375806</td>\n",
              "      <td>5.135738</td>\n",
              "      <td>0.108989</td>\n",
              "    </tr>\n",
              "    <tr>\n",
              "      <th>1</th>\n",
              "      <td>Random Forest Regression</td>\n",
              "      <td>1.549128</td>\n",
              "      <td>6.008704</td>\n",
              "      <td>2.451266</td>\n",
              "      <td>0.797753</td>\n",
              "    </tr>\n",
              "  </tbody>\n",
              "</table>\n",
              "</div>\n",
              "      <button class=\"colab-df-convert\" onclick=\"convertToInteractive('df-63706075-5988-4f69-9163-a695aefd84ff')\"\n",
              "              title=\"Convert this dataframe to an interactive table.\"\n",
              "              style=\"display:none;\">\n",
              "        \n",
              "  <svg xmlns=\"http://www.w3.org/2000/svg\" height=\"24px\"viewBox=\"0 0 24 24\"\n",
              "       width=\"24px\">\n",
              "    <path d=\"M0 0h24v24H0V0z\" fill=\"none\"/>\n",
              "    <path d=\"M18.56 5.44l.94 2.06.94-2.06 2.06-.94-2.06-.94-.94-2.06-.94 2.06-2.06.94zm-11 1L8.5 8.5l.94-2.06 2.06-.94-2.06-.94L8.5 2.5l-.94 2.06-2.06.94zm10 10l.94 2.06.94-2.06 2.06-.94-2.06-.94-.94-2.06-.94 2.06-2.06.94z\"/><path d=\"M17.41 7.96l-1.37-1.37c-.4-.4-.92-.59-1.43-.59-.52 0-1.04.2-1.43.59L10.3 9.45l-7.72 7.72c-.78.78-.78 2.05 0 2.83L4 21.41c.39.39.9.59 1.41.59.51 0 1.02-.2 1.41-.59l7.78-7.78 2.81-2.81c.8-.78.8-2.07 0-2.86zM5.41 20L4 18.59l7.72-7.72 1.47 1.35L5.41 20z\"/>\n",
              "  </svg>\n",
              "      </button>\n",
              "      \n",
              "  <style>\n",
              "    .colab-df-container {\n",
              "      display:flex;\n",
              "      flex-wrap:wrap;\n",
              "      gap: 12px;\n",
              "    }\n",
              "\n",
              "    .colab-df-convert {\n",
              "      background-color: #E8F0FE;\n",
              "      border: none;\n",
              "      border-radius: 50%;\n",
              "      cursor: pointer;\n",
              "      display: none;\n",
              "      fill: #1967D2;\n",
              "      height: 32px;\n",
              "      padding: 0 0 0 0;\n",
              "      width: 32px;\n",
              "    }\n",
              "\n",
              "    .colab-df-convert:hover {\n",
              "      background-color: #E2EBFA;\n",
              "      box-shadow: 0px 1px 2px rgba(60, 64, 67, 0.3), 0px 1px 3px 1px rgba(60, 64, 67, 0.15);\n",
              "      fill: #174EA6;\n",
              "    }\n",
              "\n",
              "    [theme=dark] .colab-df-convert {\n",
              "      background-color: #3B4455;\n",
              "      fill: #D2E3FC;\n",
              "    }\n",
              "\n",
              "    [theme=dark] .colab-df-convert:hover {\n",
              "      background-color: #434B5C;\n",
              "      box-shadow: 0px 1px 3px 1px rgba(0, 0, 0, 0.15);\n",
              "      filter: drop-shadow(0px 1px 2px rgba(0, 0, 0, 0.3));\n",
              "      fill: #FFFFFF;\n",
              "    }\n",
              "  </style>\n",
              "\n",
              "      <script>\n",
              "        const buttonEl =\n",
              "          document.querySelector('#df-63706075-5988-4f69-9163-a695aefd84ff button.colab-df-convert');\n",
              "        buttonEl.style.display =\n",
              "          google.colab.kernel.accessAllowed ? 'block' : 'none';\n",
              "\n",
              "        async function convertToInteractive(key) {\n",
              "          const element = document.querySelector('#df-63706075-5988-4f69-9163-a695aefd84ff');\n",
              "          const dataTable =\n",
              "            await google.colab.kernel.invokeFunction('convertToInteractive',\n",
              "                                                     [key], {});\n",
              "          if (!dataTable) return;\n",
              "\n",
              "          const docLinkHtml = 'Like what you see? Visit the ' +\n",
              "            '<a target=\"_blank\" href=https://colab.research.google.com/notebooks/data_table.ipynb>data table notebook</a>'\n",
              "            + ' to learn more about interactive tables.';\n",
              "          element.innerHTML = '';\n",
              "          dataTable['output_type'] = 'display_data';\n",
              "          await google.colab.output.renderOutput(dataTable, element);\n",
              "          const docLink = document.createElement('div');\n",
              "          docLink.innerHTML = docLinkHtml;\n",
              "          element.appendChild(docLink);\n",
              "        }\n",
              "      </script>\n",
              "    </div>\n",
              "  </div>\n",
              "  "
            ]
          },
          "metadata": {},
          "execution_count": 137
        }
      ]
    }
  ],
  "metadata": {
    "kernelspec": {
      "display_name": "Python 3 (ipykernel)",
      "language": "python",
      "name": "python3"
    },
    "language_info": {
      "codemirror_mode": {
        "name": "ipython",
        "version": 3
      },
      "file_extension": ".py",
      "mimetype": "text/x-python",
      "name": "python",
      "nbconvert_exporter": "python",
      "pygments_lexer": "ipython3",
      "version": "3.8.10"
    },
    "colab": {
      "provenance": [],
      "collapsed_sections": []
    }
  },
  "nbformat": 4,
  "nbformat_minor": 5
}